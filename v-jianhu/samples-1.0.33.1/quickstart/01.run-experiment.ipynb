{
    "cells":  [
                  {
                      "cell_type":  "markdown",
                      "metadata":  {

                                   },
                      "source":  [
                                     "Copyright (c) Microsoft Corporation. All rights reserved.\n",
                                     "\n",
                                     "Licensed under the MIT License."
                                 ]
                  },
                  {
                      "cell_type":  "markdown",
                      "metadata":  {

                                   },
                      "source":  [
                                     "## Introduction to Azure Machine Learning service: Run experiment\n",
                                     "\n",
                                     "In this example, you\u0027ll learn how to use Azure Machine Learning for experimentation.\n",
                                     "\n",
                                     "First, let\u0027s load your workspace and create an experiment. When you run *ws = Workspace.from_config()* below, you will be prompted to log in to your Azure subscription.. Once you are connected to your workspace in Azure cloud, you can start experimenting.\n",
                                     "\n",
                                     "The workspace is an Azure resource that contains your experiments, models, deployments and remote compute resources, and the experiment is a container that you use to track and organize your runs."
                                 ]
                  },
                  {
                      "cell_type":  "code",
                      "execution_count":  null,
                      "metadata":  {

                                   },
                      "outputs":  [

                                  ],
                      "source":  [
                                     "from azureml.core import Workspace, Experiment, Run\n",
                                     "import math, random, pickle"
                                 ]
                  },
                  {
                      "cell_type":  "code",
                      "execution_count":  null,
                      "metadata":  {

                                   },
                      "outputs":  [

                                  ],
                      "source":  [
                                     "ws = Workspace.from_config()"
                                 ]
                  },
                  {
                      "cell_type":  "code",
                      "execution_count":  null,
                      "metadata":  {

                                   },
                      "outputs":  [

                                  ],
                      "source":  [
                                     "experiment = Experiment(workspace = ws, name = \"my-first-experiment\")"
                                 ]
                  },
                  {
                      "cell_type":  "markdown",
                      "metadata":  {

                                   },
                      "source":  [
                                     "Next, let\u0027s start an experiment run. We use Monte Carlo simulation to estimate pi as a simple example. While the experiment is running, metrics about the accuracy of the estimate are logged into run history.\n",
                                     "\n",
                                     "Let\u0027s also save the value as a file into run history. In the next notebook we\u0027ll use this file to create a web service that computes an area of a circle using our estimate."
                                 ]
                  },
                  {
                      "cell_type":  "code",
                      "execution_count":  null,
                      "metadata":  {

                                   },
                      "outputs":  [

                                  ],
                      "source":  [
                                     "run = experiment.start_logging()\n",
                                     "\n",
                                     "pi_counter = 0\n",
                                     "n_iter = 100000\n",
                                     "\n",
                                     "# Log total number of iterations\n",
                                     "run.log(\"Number of iterations\",n_iter)\n",
                                     "\n",
                                     "for i in range(1,n_iter):\n",
                                     "    # Monte Carlo step to update estimate\n",
                                     "    x = random.random()\n",
                                     "    y = random.random()\n",
                                     "    if x*x + y*y \u003c 1.0:\n",
                                     "        pi_counter += 1\n",
                                     "    pi_estimate = 4.0*pi_counter / i\n",
                                     "    \n",
                                     "    # Log convergence every 10000 iterations\n",
                                     "    if i%10000==0:\n",
                                     "        error = math.pi-pi_estimate\n",
                                     "        run.log(\"Pi estimate\",pi_estimate)\n",
                                     "        run.log(\"Error\",error)\n",
                                     "\n",
                                     "# Log final results\n",
                                     "run.log(\"Final estimate: \",pi_estimate)\n",
                                     "run.log(\"Final error: \",math.pi-pi_estimate)\n",
                                     "\n",
                                     "# Write file containing pi value into run history\n",
                                     "with open(\"pi_estimate.txt\",\"wb\") as f:\n",
                                     "    pickle.dump(str(pi_estimate),f)\n",
                                     "run.upload_file(name = \u0027outputs/pi_estimate.txt\u0027, path_or_stream = \u0027./pi_estimate.txt\u0027)\n",
                                     "\n",
                                     "# Complete tracking and get link to details\n",
                                     "run.complete()"
                                 ]
                  },
                  {
                      "cell_type":  "markdown",
                      "metadata":  {

                                   },
                      "source":  [
                                     "Once the run has completed, you can view a detailed report of the run from Azure Portal by simply calling \"run\" and following the link."
                                 ]
                  },
                  {
                      "cell_type":  "code",
                      "execution_count":  null,
                      "metadata":  {

                                   },
                      "outputs":  [

                                  ],
                      "source":  [
                                     "run"
                                 ]
                  },
                  {
                      "cell_type":  "markdown",
                      "metadata":  {

                                   },
                      "source":  [
                                     "Next, learn how to deploy a web service that computes the area of circle using your estimate using following Notebook:\n",
                                     "\n",
                                     "[Deploy web service](02.deploy-web-service.ipynb)"
                                 ]
                  },
                  {
                      "cell_type":  "code",
                      "execution_count":  null,
                      "metadata":  {

                                   },
                      "outputs":  [

                                  ],
                      "source":  [

                                 ]
                  }
              ],
    "metadata":  {
                     "authors":  [
                                     {
                                         "name":  "roastala"
                                     }
                                 ],
                     "kernelspec":  {
                                        "display_name":  "Python 3.6 - AzureML",
                                        "language":  "python",
                                        "name":  "python3-azureml"
                                    },
                     "language_info":  {
                                           "codemirror_mode":  {
                                                                   "name":  "ipython",
                                                                   "version":  3
                                                               },
                                           "file_extension":  ".py",
                                           "mimetype":  "text/x-python",
                                           "name":  "python",
                                           "nbconvert_exporter":  "python",
                                           "pygments_lexer":  "ipython3",
                                           "version":  "3.6.6"
                                       }
                 },
    "nbformat":  4,
    "nbformat_minor":  2
}
