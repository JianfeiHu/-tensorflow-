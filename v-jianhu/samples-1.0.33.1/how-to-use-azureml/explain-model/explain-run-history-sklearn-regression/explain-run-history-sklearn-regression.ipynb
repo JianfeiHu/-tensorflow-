{
    "cells":  [
                  {
                      "cell_type":  "markdown",
                      "metadata":  {

                                   },
                      "source":  [
                                     "# Boston Housing Price Prediction with scikit-learn (save model explanations via AML Run History)"
                                 ]
                  },
                  {
                      "cell_type":  "markdown",
                      "metadata":  {

                                   },
                      "source":  [
                                     "Copyright (c) Microsoft Corporation. All rights reserved.\n",
                                     "\n",
                                     "Licensed under the MIT License."
                                 ]
                  },
                  {
                      "cell_type":  "markdown",
                      "metadata":  {

                                   },
                      "source":  [
                                     "Explain a model with the AML explain-model package\n",
                                     "\n",
                                     "1. Train a GradientBoosting regression model using Scikit-learn\n",
                                     "2. Run \u0027explain_model\u0027 with AML Run History, which leverages run history service to store and manage the explanation data"
                                 ]
                  },
                  {
                      "cell_type":  "markdown",
                      "metadata":  {

                                   },
                      "source":  [
                                     "# Save Model Explanation With AML Run History"
                                 ]
                  },
                  {
                      "cell_type":  "code",
                      "execution_count":  null,
                      "metadata":  {

                                   },
                      "outputs":  [

                                  ],
                      "source":  [
                                     "#Import Iris dataset\n",
                                     "from sklearn import datasets\n",
                                     "from sklearn.ensemble import GradientBoostingRegressor\n",
                                     "\n",
                                     "import azureml.core\n",
                                     "from azureml.core import Workspace, Experiment, Run\n",
                                     "from azureml.explain.model.tabular_explainer import TabularExplainer\n",
                                     "from azureml.contrib.explain.model.explanation.explanation_client import ExplanationClient\n",
                                     "# Check core SDK version number\n",
                                     "print(\"SDK version:\", azureml.core.VERSION)"
                                 ]
                  },
                  {
                      "cell_type":  "code",
                      "execution_count":  null,
                      "metadata":  {

                                   },
                      "outputs":  [

                                  ],
                      "source":  [
                                     "ws = Workspace.from_config()\n",
                                     "print(\u0027Workspace name: \u0027 + ws.name, \n",
                                     "      \u0027Azure region: \u0027 + ws.location, \n",
                                     "      \u0027Subscription id: \u0027 + ws.subscription_id, \n",
                                     "      \u0027Resource group: \u0027 + ws.resource_group, sep = \u0027\\n\u0027)"
                                 ]
                  },
                  {
                      "cell_type":  "code",
                      "execution_count":  null,
                      "metadata":  {

                                   },
                      "outputs":  [

                                  ],
                      "source":  [
                                     "experiment_name = \u0027explain_model\u0027\n",
                                     "experiment = Experiment(ws, experiment_name)\n",
                                     "run = experiment.start_logging()\n",
                                     "client = ExplanationClient.from_run(run)"
                                 ]
                  },
                  {
                      "cell_type":  "markdown",
                      "metadata":  {

                                   },
                      "source":  [
                                     "## Load the Boston house price data"
                                 ]
                  },
                  {
                      "cell_type":  "code",
                      "execution_count":  null,
                      "metadata":  {

                                   },
                      "outputs":  [

                                  ],
                      "source":  [
                                     "boston_data = datasets.load_boston()"
                                 ]
                  },
                  {
                      "cell_type":  "code",
                      "execution_count":  null,
                      "metadata":  {

                                   },
                      "outputs":  [

                                  ],
                      "source":  [
                                     "# Split data into train and test\n",
                                     "from sklearn.model_selection import train_test_split\n",
                                     "x_train, x_test, y_train, y_test = train_test_split(boston_data.data, boston_data.target, test_size=0.2, random_state=0)"
                                 ]
                  },
                  {
                      "cell_type":  "markdown",
                      "metadata":  {

                                   },
                      "source":  [
                                     "## Train a GradientBoosting Regression model, which you want to explain"
                                 ]
                  },
                  {
                      "cell_type":  "code",
                      "execution_count":  null,
                      "metadata":  {

                                   },
                      "outputs":  [

                                  ],
                      "source":  [
                                     "clf = GradientBoostingRegressor(n_estimators=100, max_depth=4,\n",
                                     "                                learning_rate=0.1, loss=\u0027huber\u0027,\n",
                                     "                                random_state=1)\n",
                                     "model = clf.fit(x_train, y_train)"
                                 ]
                  },
                  {
                      "cell_type":  "markdown",
                      "metadata":  {

                                   },
                      "source":  [
                                     "## Explain predictions on your local machine"
                                 ]
                  },
                  {
                      "cell_type":  "code",
                      "execution_count":  null,
                      "metadata":  {

                                   },
                      "outputs":  [

                                  ],
                      "source":  [
                                     "tabular_explainer = TabularExplainer(model, x_train, features=boston_data.feature_names)"
                                 ]
                  },
                  {
                      "cell_type":  "markdown",
                      "metadata":  {

                                   },
                      "source":  [
                                     "## Explain overall model predictions (global explanation)"
                                 ]
                  },
                  {
                      "cell_type":  "code",
                      "execution_count":  null,
                      "metadata":  {

                                   },
                      "outputs":  [

                                  ],
                      "source":  [
                                     "# Passing in test dataset for evaluation examples - note it must be a representative sample of the original data\n",
                                     "# x_train can be passed as well, but with more examples explanations will take longer although they may be more accurate\n",
                                     "global_explanation = tabular_explainer.explain_global(x_test)"
                                 ]
                  },
                  {
                      "cell_type":  "code",
                      "execution_count":  null,
                      "metadata":  {

                                   },
                      "outputs":  [

                                  ],
                      "source":  [
                                     "# Uploading model explanation data for storage or visualization in webUX\n",
                                     "# The explanation can then be downloaded on any compute\n",
                                     "client.upload_model_explanation(global_explanation)"
                                 ]
                  },
                  {
                      "cell_type":  "code",
                      "execution_count":  null,
                      "metadata":  {

                                   },
                      "outputs":  [

                                  ],
                      "source":  [
                                     "# Get model explanation data\n",
                                     "explanation = client.download_model_explanation()\n",
                                     "local_importance_values = explanation.local_importance_values\n",
                                     "expected_values = explanation.expected_values"
                                 ]
                  },
                  {
                      "cell_type":  "code",
                      "execution_count":  null,
                      "metadata":  {

                                   },
                      "outputs":  [

                                  ],
                      "source":  [
                                     "# Print the values\n",
                                     "print(\u0027expected values: {}\u0027.format(expected_values))\n",
                                     "print(\u0027local importance values: {}\u0027.format(local_importance_values))"
                                 ]
                  },
                  {
                      "cell_type":  "code",
                      "execution_count":  null,
                      "metadata":  {

                                   },
                      "outputs":  [

                                  ],
                      "source":  [
                                     "# Get the top k (e.g., 4) most important features with their importance values\n",
                                     "explanation = client.download_model_explanation(top_k=4)\n",
                                     "global_importance_values = explanation.get_ranked_global_values()\n",
                                     "global_importance_names = explanation.get_ranked_global_names()"
                                 ]
                  },
                  {
                      "cell_type":  "code",
                      "execution_count":  null,
                      "metadata":  {

                                   },
                      "outputs":  [

                                  ],
                      "source":  [
                                     "print(\u0027global importance values: {}\u0027.format(global_importance_values))\n",
                                     "print(\u0027global importance names: {}\u0027.format(global_importance_names))"
                                 ]
                  },
                  {
                      "cell_type":  "markdown",
                      "metadata":  {

                                   },
                      "source":  [
                                     "## Explain individual instance predictions (local explanation) ##### needs to get updated with the new build"
                                 ]
                  },
                  {
                      "cell_type":  "code",
                      "execution_count":  null,
                      "metadata":  {

                                   },
                      "outputs":  [

                                  ],
                      "source":  [
                                     "local_explanation = tabular_explainer.explain_local(x_test[0,:])"
                                 ]
                  },
                  {
                      "cell_type":  "code",
                      "execution_count":  null,
                      "metadata":  {

                                   },
                      "outputs":  [

                                  ],
                      "source":  [
                                     "# local feature importance information\n",
                                     "local_importance_values = local_explanation.local_importance_values\n",
                                     "print(\u0027local importance values: {}\u0027.format(local_importance_values))"
                                 ]
                  }
              ],
    "metadata":  {
                     "authors":  [
                                     {
                                         "name":  "mesameki"
                                     }
                                 ],
                     "kernelspec":  {
                                        "display_name":  "Python 3.6 - AzureML",
                                        "language":  "python",
                                        "name":  "python3-azureml"
                                    },
                     "language_info":  {
                                           "codemirror_mode":  {
                                                                   "name":  "ipython",
                                                                   "version":  3
                                                               },
                                           "file_extension":  ".py",
                                           "mimetype":  "text/x-python",
                                           "name":  "python",
                                           "nbconvert_exporter":  "python",
                                           "pygments_lexer":  "ipython3",
                                           "version":  "3.6.8"
                                       }
                 },
    "nbformat":  4,
    "nbformat_minor":  2
}
