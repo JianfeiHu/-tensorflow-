{
    "cells":  [
                  {
                      "cell_type":  "markdown",
                      "metadata":  {

                                   },
                      "source":  [
                                     "# Pivot\n",
                                     "Copyright (c) Microsoft Corporation. All rights reserved.  \n",
                                     "Licensed under the MIT License."
                                 ]
                  },
                  {
                      "cell_type":  "markdown",
                      "metadata":  {

                                   },
                      "source":  [
                                     "Azure ML Data Prep has the ability to perform Pivot on a Dataflow with the `pivot` transformation."
                                 ]
                  },
                  {
                      "cell_type":  "code",
                      "execution_count":  null,
                      "metadata":  {

                                   },
                      "outputs":  [

                                  ],
                      "source":  [
                                     "import azureml.dataprep as dprep"
                                 ]
                  },
                  {
                      "cell_type":  "code",
                      "execution_count":  null,
                      "metadata":  {

                                   },
                      "outputs":  [

                                  ],
                      "source":  [
                                     "dflow = dprep.auto_read_file(\u0027../data/crime-full.csv\u0027)"
                                 ]
                  },
                  {
                      "cell_type":  "markdown",
                      "metadata":  {

                                   },
                      "source":  [
                                     "To `pivot` a Dataflow, provide the `columns_to_pivot` and the `value_column`.\n",
                                     "\n",
                                     "The columns to pivot are used to generate the new column names in the resulting Dataflow at design time. If multiple columns are selected, their respective values for each row will be concatenated to generate the new column names.\n",
                                     "\n",
                                     "The value column is used to populate the new Dataflow with its values.\n",
                                     "\n",
                                     "Then, provide a `summary_function` and `group_by_columns`, which are used to perform a summarization on the new Dataflow."
                                 ]
                  },
                  {
                      "cell_type":  "markdown",
                      "metadata":  {

                                   },
                      "source":  [
                                     "In the following example, pivot will generate a new Dataflow with a column for each value from the \"Location Description\" column in the original dataset. Then, it will populate these columns with the corresponding \"Damage Cost\". And finally, it will calculate the total sum for each column, and group them by \"Arrest\" and \"Domestic\"."
                                 ]
                  },
                  {
                      "cell_type":  "code",
                      "execution_count":  null,
                      "metadata":  {

                                   },
                      "outputs":  [

                                  ],
                      "source":  [
                                     "dflow_pivoted = dflow.pivot(columns_to_pivot=[\u0027Location Description\u0027],\n",
                                     "                            value_column=\u0027Damage Cost\u0027,\n",
                                     "                            summary_function=dprep.SummaryFunction.SUM,\n",
                                     "                            group_by_columns=[\u0027Arrest\u0027, \u0027Domestic\u0027])\n",
                                     "dflow_pivoted.head(5)"
                                 ]
                  },
                  {
                      "cell_type":  "markdown",
                      "metadata":  {

                                   },
                      "source":  [
                                     "Note that the new column names generated from `columns_to_pivot` are remembered in the Dataflow step. Also, if any error or null value are encountered when generating the new column names, `\u0027ERROR\u0027` and `\u0027NULL\u0027` will be used as default replacement strings. To overwrite the default replacement strings, specify them using `null_replacement_string` and `error_replacement_string`."
                                 ]
                  },
                  {
                      "cell_type":  "markdown",
                      "metadata":  {

                                   },
                      "source":  [
                                     "To have more control over the new column names generated from `columns_to_pivot`, create a builder using `Dataflow.builders.pivot`. The builder allows you to preview and modify the new column names before generating a new Dataflow."
                                 ]
                  },
                  {
                      "cell_type":  "code",
                      "execution_count":  null,
                      "metadata":  {

                                   },
                      "outputs":  [

                                  ],
                      "source":  [
                                     "builder = dflow.builders.pivot(columns_to_pivot=[\u0027Location Description\u0027],\n",
                                     "                               value_column=\u0027Damage Cost\u0027,\n",
                                     "                               summary_function=dprep.SummaryFunction.MEAN,\n",
                                     "                               group_by_columns=[\u0027Arrest\u0027, \u0027Domestic\u0027])"
                                 ]
                  },
                  {
                      "cell_type":  "markdown",
                      "metadata":  {

                                   },
                      "source":  [
                                     "To generate the new column names, call the `learn` method on the builder object."
                                 ]
                  },
                  {
                      "cell_type":  "code",
                      "execution_count":  null,
                      "metadata":  {

                                   },
                      "outputs":  [

                                  ],
                      "source":  [
                                     "builder.learn()"
                                 ]
                  },
                  {
                      "cell_type":  "markdown",
                      "metadata":  {

                                   },
                      "source":  [
                                     "To preview the categorical labels, simply access them through the property `pivoted_columns` on the builder object."
                                 ]
                  },
                  {
                      "cell_type":  "code",
                      "execution_count":  null,
                      "metadata":  {

                                   },
                      "outputs":  [

                                  ],
                      "source":  [
                                     "builder.pivoted_columns"
                                 ]
                  },
                  {
                      "cell_type":  "markdown",
                      "metadata":  {

                                   },
                      "source":  [
                                     "To modify the new column names, simply assign a new value to `pivoted_columns` or modify the existing one."
                                 ]
                  },
                  {
                      "cell_type":  "code",
                      "execution_count":  null,
                      "metadata":  {

                                   },
                      "outputs":  [

                                  ],
                      "source":  [
                                     "builder.pivoted_columns = builder.pivoted_columns[1:6]\n",
                                     "builder.pivoted_columns"
                                 ]
                  },
                  {
                      "cell_type":  "markdown",
                      "metadata":  {

                                   },
                      "source":  [
                                     "Once the desired results are achieved, call `builder.to_dataflow()` to get the new pivoted Dataflow."
                                 ]
                  },
                  {
                      "cell_type":  "code",
                      "execution_count":  null,
                      "metadata":  {

                                   },
                      "outputs":  [

                                  ],
                      "source":  [
                                     "dflow_pivoted = builder.to_dataflow()\n",
                                     "dflow_pivoted.head(5)"
                                 ]
                  }
              ],
    "metadata":  {
                     "authors":  [
                                     {
                                         "name":  "sihhu"
                                     }
                                 ],
                     "kernelspec":  {
                                        "display_name":  "Python 3.6 - AzureML",
                                        "language":  "python",
                                        "name":  "python3-azureml"
                                    },
                     "language_info":  {
                                           "codemirror_mode":  {
                                                                   "name":  "ipython",
                                                                   "version":  3
                                                               },
                                           "file_extension":  ".py",
                                           "mimetype":  "text/x-python",
                                           "name":  "python",
                                           "nbconvert_exporter":  "python",
                                           "pygments_lexer":  "ipython3",
                                           "version":  "3.6.4"
                                       }
                 },
    "nbformat":  4,
    "nbformat_minor":  2
}
