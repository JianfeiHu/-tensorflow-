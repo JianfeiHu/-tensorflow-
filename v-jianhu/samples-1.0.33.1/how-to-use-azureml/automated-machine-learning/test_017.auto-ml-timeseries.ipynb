{
    "cells":  [
                  {
                      "cell_type":  "markdown",
                      "metadata":  {

                                   },
                      "source":  [
                                     "# AutoML 017:  Timeseries dataset\n",
                                     "Copyright (c) Microsoft Corporation. All rights reserved.\n",
                                     "\n",
                                     "Licensed under the MIT License."
                                 ]
                  },
                  {
                      "cell_type":  "markdown",
                      "metadata":  {

                                   },
                      "source":  [
                                     "\n",
                                     "In this example we use the Appliances energy prediction data set (https://archive.ics.uci.edu/ml/datasets/Appliances+energy+prediction) to showcase how you can use the AutoML Regressor for IOT data.\n",
                                     "\n",
                                     "Make sure you have executed the [setup](setup.ipynb) before running this notebook.\n",
                                     "\n",
                                     "In this notebook you would see\n",
                                     "1. Creating or reusing an existing Project and Workspace\n",
                                     "2. Loading a time-series dataset\n",
                                     "3. Instantiating a AutoML Regressor \n",
                                     "4. Training the Model locally\n",
                                     "5. Exploring the results\n",
                                     "\n"
                                 ]
                  },
                  {
                      "cell_type":  "markdown",
                      "metadata":  {

                                   },
                      "source":  [
                                     "## Create Project and Workspace\n",
                                     "\n",
                                     "As part of the setup you have already created a workspace. For AutoML you would need to create a \u003cb\u003eProject\u003c/b\u003e. A Project is a local folder that contains files for your Azure ML experiments. It is associated with a run history, a cloud container of run metrics and output artifacts from your experiments. You can either attach a local folder as a new project, or load a local folder as a project if it has been attached before."
                                 ]
                  },
                  {
                      "cell_type":  "code",
                      "execution_count":  null,
                      "metadata":  {

                                   },
                      "outputs":  [

                                  ],
                      "source":  [
                                     "import logging\n",
                                     "import os\n",
                                     "import random\n",
                                     "\n",
                                     "from matplotlib import pyplot as plt\n",
                                     "from matplotlib.pyplot import imshow\n",
                                     "import numpy as np\n",
                                     "import pandas as pd\n",
                                     "from sklearn import datasets\n",
                                     "\n",
                                     "import azureml.core\n",
                                     "from azureml.core.experiment import Experiment\n",
                                     "from azureml.core.workspace import Workspace\n",
                                     "from azureml.train.automl import AutoMLConfig\n",
                                     "from azureml.train.automl.run import AutoMLRun"
                                 ]
                  },
                  {
                      "cell_type":  "code",
                      "execution_count":  null,
                      "metadata":  {

                                   },
                      "outputs":  [

                                  ],
                      "source":  [
                                     "ws = Workspace.from_config()\n",
                                     "\n",
                                     "# choose a name for the run history container in the workspace\n",
                                     "experiment_name = \u0027automl-iot-remote-timeseries\u0027\n",
                                     "# project folder\n",
                                     "project_folder = \u0027./sample_projects/automl-iot-remote-timeseries\u0027\n",
                                     "\n",
                                     "experiment=Experiment(ws, experiment_name)\n",
                                     "\n",
                                     "output = {}\n",
                                     "output[\u0027SDK version\u0027] = azureml.core.VERSION\n",
                                     "output[\u0027Subscription ID\u0027] = ws.subscription_id\n",
                                     "output[\u0027Workspace\u0027] = ws.name\n",
                                     "output[\u0027Resource Group\u0027] = ws.resource_group\n",
                                     "output[\u0027Location\u0027] = ws.location\n",
                                     "output[\u0027Project Directory\u0027] = project_folder\n",
                                     "output[\u0027Experiment Name\u0027] = experiment_name\n",
                                     "pd.set_option(\u0027display.max_colwidth\u0027, -1)\n",
                                     "pd.DataFrame(data=output, index=[\u0027\u0027]).T"
                                 ]
                  },
                  {
                      "cell_type":  "code",
                      "execution_count":  null,
                      "metadata":  {

                                   },
                      "outputs":  [

                                  ],
                      "source":  [
                                     "if not os.path.exists(project_folder):\n",
                                     "    os.makedirs(project_folder)\n",
                                     "if not os.path.exists(project_folder + \"/aml_config\"):\n",
                                     "    os.makedirs(project_folder + \"/aml_config\")"
                                 ]
                  },
                  {
                      "cell_type":  "code",
                      "execution_count":  null,
                      "metadata":  {

                                   },
                      "outputs":  [

                                  ],
                      "source":  [
                                     "from azureml.core.runconfig import CondaDependencies\n",
                                     "cd = CondaDependencies.create(pip_packages=[\u0027azureml-sdk[automl]\u0027], conda_packages=[\u0027numpy\u0027])\n"
                                 ]
                  },
                  {
                      "cell_type":  "code",
                      "execution_count":  null,
                      "metadata":  {

                                   },
                      "outputs":  [

                                  ],
                      "source":  [
                                     "!pip install xlrd\n"
                                 ]
                  },
                  {
                      "cell_type":  "markdown",
                      "metadata":  {

                                   },
                      "source":  [
                                     "## Load the time-series data set\n",
                                     "This dataset is of appliances energy use in a low energy building. The house temperature and humidity conditions were monitored with a ZigBee wireless sensor network.  Weather from the nearest airport weather station was downloaded from a public data set from Reliable Prognosis (rp5.ru), and merged together with the experimental data sets using the date and time column"
                                 ]
                  },
                  {
                      "cell_type":  "code",
                      "execution_count":  null,
                      "metadata":  {

                                   },
                      "outputs":  [

                                  ],
                      "source":  [
                                     "##data prep\n",
                                     "data = pd.read_excel(\"EnergyData_Complete.xlsx\")\n",
                                     "print(data.shape)\n",
                                     "\n",
                                     "def split(data, sort_column= \u0027Date\u0027, drop_cols=True):\n",
                                     "    #data[\u0027DateTimeUTC_str\u0027] =  data[[\u0027DateTimeUTC\u0027]].apply(lambda x:  x[0].strftime(\"%Y-%d-%m-%T\") , axis=1) # \u00272014-01-01-02:26:00\u0027\n",
                                     "    #data.pop(\u0027DateTimeUTC\u0027).values[:, None]\n",
                                     "    y = data.pop(\u0027Appliances\u0027).values[:, None].ravel()\n",
                                     "    X = data.values\n",
                                     "    N = data.shape[0]\n",
                                     "    \n",
                                     "    perc_train = 0.80\n",
                                     "    perc_valid = 0.10\n",
                                     "    perc_test  = 0.10\n",
                                     "\n",
                                     "    train = int(N * perc_train)\n",
                                     "    valid = int(N * perc_valid)\n",
                                     "    test  = int(N * perc_test)\n",
                                     "\n",
                                     "    y_train, y_valid, y_test = y[:train], y[train:train+valid], y[train+valid:train+valid+test]\n",
                                     "    X_train, X_valid, X_test = X[:train], X[train:train+valid], X[train+valid:train+valid+test]\n",
                                     "    X_full, y_full = X[:train+valid], y[:train+valid]    \n",
                                     "    return X_train, y_train, X_valid, y_valid, X_test, y_test, train, valid, test, X, y, X_full, y_full\n",
                                     "\n",
                                     "##Extract data\n",
                                     "_, _, _, _, _, _, train, valid, test, X, y, X_full, y_full = split(data.copy(), drop_cols=True)\n",
                                     "N = X.shape[0]\n",
                                     "\n",
                                     "X_train = X[:train+valid]\n",
                                     "Y_train = y[:train+valid]\n",
                                     "X_test = X[train+valid:train+valid+test]\n",
                                     "\n",
                                     "#print(Y_train)\n"
                                 ]
                  },
                  {
                      "cell_type":  "markdown",
                      "metadata":  {

                                   },
                      "source":  [
                                     "## Diagnostics\n",
                                     "Opt-in diagnostics collection for better experience, quality, and security of future releases"
                                 ]
                  },
                  {
                      "cell_type":  "code",
                      "execution_count":  null,
                      "metadata":  {

                                   },
                      "outputs":  [

                                  ],
                      "source":  [
                                     "from azureml.telemetry import set_diagnostics_collection\n",
                                     "set_diagnostics_collection(send_diagnostics=True)"
                                 ]
                  },
                  {
                      "cell_type":  "markdown",
                      "metadata":  {

                                   },
                      "source":  [
                                     "## Instantiate AutoML \u003ca class=\"anchor\" id=\"Instatiate-AutoML-Remote-DSVM\"\u003e\u003c/a\u003e\n",
                                     "\n",
                                     "You can specify automl_settings as **kwargs** as well. Also note that you can use the get_data() symantic for local excutions too. \n",
                                     "\n",
                                     "\u003ci\u003eNote: For Remote DSVM and Batch AI you cannot pass Numpy arrays directly to the fit method.\u003c/i\u003e\n",
                                     "\n",
                                     "|Property|Description|\n",
                                     "|-|-|\n",
                                     "|**primary_metric**|This is the metric that you want to optimize.\u003cbr\u003e Auto ML Regressor supports the following primary metrics \u003cbr\u003e\u003ci\u003eAUC_macro\u003c/i\u003e\u003cbr\u003e\u003ci\u003eAUC_weighted\u003c/i\u003e\u003cbr\u003e\u003ci\u003eaccuracy\u003c/i\u003e\u003cbr\u003e\u003ci\u003eweighted_accuracy\u003c/i\u003e\u003cbr\u003e\u003ci\u003enorm_macro_recall\u003c/i\u003e\u003cbr\u003e\u003ci\u003ebalanced_accuracy\u003c/i\u003e|\n",
                                     "|**iteration_timeout_minutes**|Time limit in minutes for each iterations|\n",
                                     "|**iterations**|Number of iterations. In each iteration Auto ML Regressor trains the data with a specific pipeline|\n",
                                     "|**num_cross_folds**|Cross Validation split|\n",
                                     "|**max_concurrent_iterations**|Max number of iterations that would be executed in parallel"
                                 ]
                  },
                  {
                      "cell_type":  "code",
                      "execution_count":  null,
                      "metadata":  {

                                   },
                      "outputs":  [

                                  ],
                      "source":  [
                                     "primary_metric = \u0027spearman_correlation\u0027\n",
                                     "experiment_name = \"AutoML_IOT_TimeSeries\"\n",
                                     "automl_settings = {\n",
                                     "    \"name\": experiment_name,     \n",
                                     "    \"preprocess\": True\n",
                                     "    }\n",
                                     "\n",
                                     "automl_config = AutoMLConfig(task = \u0027regression\u0027,\n",
                                     "                             debug_log = \u0027automl_errors.log\u0027,                             \n",
                                     "                             primary_metric = primary_metric,\n",
                                     "                             iteration_timeout_minutes = 60,\n",
                                     "                             iterations = 3,       \n",
                                     "                             n_cross_validations = 2,\n",
                                     "                             X = X_train,                             \n",
                                     "                             y = Y_train,                            \n",
                                     "                             path = project_folder,\n",
                                     "                             **automl_settings\n",
                                     "                            )\n"
                                 ]
                  },
                  {
                      "cell_type":  "markdown",
                      "metadata":  {

                                   },
                      "source":  [
                                     "## Training the Model \u003ca class=\"anchor\" id=\"Training-the-model-Remote-DSVM\"\u003e\u003c/a\u003e\n",
                                     "\n",
                                     "You can call the *submit* method on the Experiment instance and pass the automl config instance. For remote runs the execution is asynchronous, so you will see the iterations get populated as they complete. You can interact with the widgets/models even when the experiment is running to retreive the best model up to that point. Once you are satisfied with the model you can cancel a particular iteration or the whole run.\n",
                                     "\n",
                                     "\n",
                                     "*submit* method on experiment triggers the training of the model. It can be called with the following parameters\n",
                                     "\n",
                                     "|**Parameter**|**Description**|\n",
                                     "|-|-|\n",
                                     "|**automl_config**|Indicates the automl configuration used|\n",
                                     "|**show_output**| True/False to turn on/off console output|"
                                 ]
                  },
                  {
                      "cell_type":  "code",
                      "execution_count":  null,
                      "metadata":  {

                                   },
                      "outputs":  [

                                  ],
                      "source":  [
                                     "local_run = experiment.submit(automl_config, show_output = True)"
                                 ]
                  },
                  {
                      "cell_type":  "markdown",
                      "metadata":  {

                                   },
                      "source":  [
                                     "## Exploring the results"
                                 ]
                  },
                  {
                      "cell_type":  "markdown",
                      "metadata":  {

                                   },
                      "source":  [
                                     "\n",
                                     "#### Retrieve All Child Runs\n",
                                     "You can also use sdk methods to fetch all the child runs and see individual metrics that we log. "
                                 ]
                  },
                  {
                      "cell_type":  "code",
                      "execution_count":  null,
                      "metadata":  {

                                   },
                      "outputs":  [

                                  ],
                      "source":  [
                                     "children = list(local_run.get_children())\n",
                                     "metricslist = {}\n",
                                     "for run in children:\n",
                                     "    properties = run.get_properties()\n",
                                     "    metrics = run.get_metrics()    \n",
                                     "    metricslist[properties[\u0027iteration\u0027]] = metrics\n",
                                     "\n",
                                     "rundata = pd.DataFrame(metricslist).sort_index(1)\n",
                                     "rundata"
                                 ]
                  },
                  {
                      "cell_type":  "markdown",
                      "metadata":  {

                                   },
                      "source":  [
                                     "### Retrieve the Best Model\n",
                                     "\n",
                                     "Below we select the best pipeline from our iterations. The *get_output* method on automl_classifier returns the best run and the fitted model for the last *fit* invocation. There are overloads on *get_output* that allow you to retrieve the best run and fitted model for *any* logged metric or a particular *iteration*."
                                 ]
                  },
                  {
                      "cell_type":  "code",
                      "execution_count":  null,
                      "metadata":  {

                                   },
                      "outputs":  [

                                  ],
                      "source":  [
                                     "best_run, fitted_model = local_run.get_output()\n",
                                     "fitted_model\n"
                                 ]
                  },
                  {
                      "cell_type":  "markdown",
                      "metadata":  {

                                   },
                      "source":  [
                                     "#### Best Model based on any iteration"
                                 ]
                  },
                  {
                      "cell_type":  "code",
                      "execution_count":  null,
                      "metadata":  {

                                   },
                      "outputs":  [

                                  ],
                      "source":  [
                                     "# iteration = 3\n",
                                     "# best_run, fitted_model = remote_run.get_output(iteration=iteration)"
                                 ]
                  }
              ],
    "metadata":  {
                     "authors":  [
                                     {
                                         "name":  "savitam"
                                     }
                                 ],
                     "kernelspec":  {
                                        "display_name":  "Python 3.6 - AzureML",
                                        "language":  "python",
                                        "name":  "python3-azureml"
                                    },
                     "language_info":  {
                                           "codemirror_mode":  {
                                                                   "name":  "ipython",
                                                                   "version":  3
                                                               },
                                           "file_extension":  ".py",
                                           "mimetype":  "text/x-python",
                                           "name":  "python",
                                           "nbconvert_exporter":  "python",
                                           "pygments_lexer":  "ipython3",
                                           "version":  "3.6.5"
                                       }
                 },
    "nbformat":  4,
    "nbformat_minor":  2
}
