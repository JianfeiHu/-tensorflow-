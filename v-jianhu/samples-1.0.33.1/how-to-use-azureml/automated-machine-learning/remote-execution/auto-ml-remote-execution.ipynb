{
    "cells":  [
                  {
                      "cell_type":  "markdown",
                      "metadata":  {

                                   },
                      "source":  [
                                     "Copyright (c) Microsoft Corporation. All rights reserved.\n",
                                     "\n",
                                     "Licensed under the MIT License."
                                 ]
                  },
                  {
                      "cell_type":  "markdown",
                      "metadata":  {

                                   },
                      "source":  [
                                     "# Automated Machine Learning\n",
                                     "_**Remote Execution using DSVM (Ubuntu)**_\n",
                                     "\n",
                                     "## Contents\n",
                                     "1. [Introduction](#Introduction)\n",
                                     "1. [Setup](#Setup)\n",
                                     "1. [Data](#Data)\n",
                                     "1. [Train](#Train)\n",
                                     "1. [Results](#Results)\n",
                                     "1. [Test](#Test)"
                                 ]
                  },
                  {
                      "cell_type":  "markdown",
                      "metadata":  {

                                   },
                      "source":  [
                                     "## Introduction\n",
                                     "In this example we use the scikit-learn\u0027s [digit dataset](http://scikit-learn.org/stable/datasets/index.html#optical-recognition-of-handwritten-digits-dataset) to showcase how you can use AutoML for a simple classification problem.\n",
                                     "\n",
                                     "Make sure you have executed the [configuration](../../../configuration.ipynb) before running this notebook.\n",
                                     "\n",
                                     "In this notebook you wiil learn how to:\n",
                                     "1. Create an `Experiment` in an existing `Workspace`.\n",
                                     "2. Attach an existing DSVM to a workspace.\n",
                                     "3. Configure AutoML using `AutoMLConfig`.\n",
                                     "4. Train the model using the DSVM.\n",
                                     "5. Explore the results.\n",
                                     "6. Test the best fitted model.\n",
                                     "\n",
                                     "In addition, this notebook showcases the following features:\n",
                                     "- **Parallel** executions for iterations\n",
                                     "- **Asynchronous** tracking of progress\n",
                                     "- **Cancellation** of individual iterations or the entire run\n",
                                     "- Retrieving models for any iteration or logged metric\n",
                                     "- Specifying AutoML settings as `**kwargs`"
                                 ]
                  },
                  {
                      "cell_type":  "markdown",
                      "metadata":  {

                                   },
                      "source":  [
                                     "## Setup\n",
                                     "\n",
                                     "As part of the setup you have already created an Azure ML `Workspace` object. For AutoML you will need to create an `Experiment` object, which is a named object in a `Workspace` used to run experiments."
                                 ]
                  },
                  {
                      "cell_type":  "code",
                      "execution_count":  null,
                      "metadata":  {

                                   },
                      "outputs":  [

                                  ],
                      "source":  [
                                     "import logging\n",
                                     "import os\n",
                                     "import time\n",
                                     "import csv\n",
                                     "\n",
                                     "from matplotlib import pyplot as plt\n",
                                     "import numpy as np\n",
                                     "import pandas as pd\n",
                                     "from sklearn import datasets\n",
                                     "\n",
                                     "import azureml.core\n",
                                     "from azureml.core.experiment import Experiment\n",
                                     "from azureml.core.workspace import Workspace\n",
                                     "from azureml.train.automl import AutoMLConfig"
                                 ]
                  },
                  {
                      "cell_type":  "code",
                      "execution_count":  null,
                      "metadata":  {

                                   },
                      "outputs":  [

                                  ],
                      "source":  [
                                     "ws = Workspace.from_config()\n",
                                     "\n",
                                     "# Choose a name for the run history container in the workspace.\n",
                                     "experiment_name = \u0027automl-remote-dsvm\u0027\n",
                                     "project_folder = \u0027./project\u0027\n",
                                     "\n",
                                     "experiment = Experiment(ws, experiment_name)\n",
                                     "\n",
                                     "output = {}\n",
                                     "output[\u0027SDK version\u0027] = azureml.core.VERSION\n",
                                     "output[\u0027Subscription ID\u0027] = ws.subscription_id\n",
                                     "output[\u0027Workspace Name\u0027] = ws.name\n",
                                     "output[\u0027Resource Group\u0027] = ws.resource_group\n",
                                     "output[\u0027Location\u0027] = ws.location\n",
                                     "output[\u0027Project Directory\u0027] = project_folder\n",
                                     "output[\u0027Experiment Name\u0027] = experiment.name\n",
                                     "pd.set_option(\u0027display.max_colwidth\u0027, -1)\n",
                                     "outputDf = pd.DataFrame(data = output, index = [\u0027\u0027])\n",
                                     "outputDf.T"
                                 ]
                  },
                  {
                      "cell_type":  "markdown",
                      "metadata":  {

                                   },
                      "source":  [
                                     "### Create a Remote Linux DSVM\n",
                                     "**Note:** If creation fails with a message about Marketplace purchase eligibilty, start creation of a DSVM through the [Azure portal](https://portal.azure.com), and select \"Want to create programmatically\" to enable programmatic creation. Once you\u0027ve enabled this setting, you can exit the portal without actually creating the DSVM, and creation of the DSVM through the notebook should work.\n"
                                 ]
                  },
                  {
                      "cell_type":  "code",
                      "execution_count":  null,
                      "metadata":  {

                                   },
                      "outputs":  [

                                  ],
                      "source":  [
                                     "from azureml.core.compute import DsvmCompute\n",
                                     "\n",
                                     "dsvm_name = \u0027mydsvma\u0027\n",
                                     "try:\n",
                                     "    dsvm_compute = DsvmCompute(ws, dsvm_name)\n",
                                     "    print(\u0027Found an existing DSVM.\u0027)\n",
                                     "except:\n",
                                     "    print(\u0027Creating a new DSVM.\u0027)\n",
                                     "    dsvm_config = DsvmCompute.provisioning_configuration(vm_size = \"Standard_D2s_v3\")\n",
                                     "    dsvm_compute = DsvmCompute.create(ws, name = dsvm_name, provisioning_configuration = dsvm_config)\n",
                                     "    dsvm_compute.wait_for_completion(show_output = True)\n",
                                     "    print(\"Waiting one minute for ssh to be accessible\")\n",
                                     "    time.sleep(90) # Wait for ssh to be accessible"
                                 ]
                  },
                  {
                      "cell_type":  "markdown",
                      "metadata":  {

                                   },
                      "source":  [
                                     "## Data\n",
                                     "For remote executions, you need to make the data accessible from the remote compute.\n",
                                     "This can be done by uploading the data to DataStore.\n",
                                     "In this example, we upload scikit-learn\u0027s [load_digits](http://scikit-learn.org/stable/modules/generated/sklearn.datasets.load_digits.html) data."
                                 ]
                  },
                  {
                      "cell_type":  "code",
                      "execution_count":  null,
                      "metadata":  {

                                   },
                      "outputs":  [

                                  ],
                      "source":  [
                                     "data_train = datasets.load_digits()\n",
                                     "\n",
                                     "if not os.path.isdir(\u0027data\u0027):\n",
                                     "    os.mkdir(\u0027data\u0027)\n",
                                     "    \n",
                                     "if not os.path.exists(project_folder):\n",
                                     "    os.makedirs(project_folder)\n",
                                     "    \n",
                                     "pd.DataFrame(data_train.data).to_csv(\"data/X_train.tsv\", index=False, header=False, quoting=csv.QUOTE_ALL, sep=\"\\t\")\n",
                                     "pd.DataFrame(data_train.target).to_csv(\"data/y_train.tsv\", index=False, header=False, sep=\"\\t\")\n",
                                     "\n",
                                     "ds = ws.get_default_datastore()\n",
                                     "ds.upload(src_dir=\u0027./data\u0027, target_path=\u0027re_data\u0027, overwrite=True, show_progress=True)\n",
                                     "\n",
                                     "from azureml.core.runconfig import DataReferenceConfiguration\n",
                                     "dr = DataReferenceConfiguration(datastore_name=ds.name, \n",
                                     "                   path_on_datastore=\u0027re_data\u0027, \n",
                                     "                   path_on_compute=\u0027/tmp/azureml_runs\u0027,\n",
                                     "                   mode=\u0027download\u0027, # download files from datastore to compute target\n",
                                     "                   overwrite=False)"
                                 ]
                  },
                  {
                      "cell_type":  "code",
                      "execution_count":  null,
                      "metadata":  {

                                   },
                      "outputs":  [

                                  ],
                      "source":  [
                                     "from azureml.core.runconfig import RunConfiguration\n",
                                     "from azureml.core.conda_dependencies import CondaDependencies\n",
                                     "\n",
                                     "# create a new RunConfig object\n",
                                     "conda_run_config = RunConfiguration(framework=\"python\")\n",
                                     "\n",
                                     "# Set compute target to the Linux DSVM\n",
                                     "conda_run_config.target = dsvm_compute\n",
                                     "\n",
                                     "# set the data reference of the run coonfiguration\n",
                                     "conda_run_config.data_references = {ds.name: dr}\n",
                                     "\n",
                                     "cd = CondaDependencies.create(pip_packages=[\u0027azureml-sdk[automl]\u0027], conda_packages=[\u0027numpy\u0027,\u0027py-xgboost\u003c=0.80\u0027])\n",
                                     "conda_run_config.environment.python.conda_dependencies = cd"
                                 ]
                  },
                  {
                      "cell_type":  "code",
                      "execution_count":  null,
                      "metadata":  {

                                   },
                      "outputs":  [

                                  ],
                      "source":  [
                                     "%%writefile $project_folder/get_data.py\n",
                                     "\n",
                                     "import pandas as pd\n",
                                     "\n",
                                     "def get_data():\n",
                                     "    X_train = pd.read_csv(\"/tmp/azureml_runs/re_data/X_train.tsv\", delimiter=\"\\t\", header=None, quotechar=\u0027\"\u0027)\n",
                                     "    y_train = pd.read_csv(\"/tmp/azureml_runs/re_data/y_train.tsv\", delimiter=\"\\t\", header=None, quotechar=\u0027\"\u0027)\n",
                                     "\n",
                                     "    return { \"X\" : X_train.values, \"y\" : y_train[0].values }\n"
                                 ]
                  },
                  {
                      "cell_type":  "markdown",
                      "metadata":  {

                                   },
                      "source":  [
                                     "## Train\n",
                                     "\n",
                                     "You can specify `automl_settings` as `**kwargs` as well. Also note that you can use a `get_data()` function for local excutions too.\n",
                                     "\n",
                                     "**Note:** When using Remote DSVM, you can\u0027t pass Numpy arrays directly to the fit method.\n",
                                     "\n",
                                     "|Property|Description|\n",
                                     "|-|-|\n",
                                     "|**primary_metric**|This is the metric that you want to optimize. Classification supports the following primary metrics: \u003cbr\u003e\u003ci\u003eaccuracy\u003c/i\u003e\u003cbr\u003e\u003ci\u003eAUC_weighted\u003c/i\u003e\u003cbr\u003e\u003ci\u003eaverage_precision_score_weighted\u003c/i\u003e\u003cbr\u003e\u003ci\u003enorm_macro_recall\u003c/i\u003e\u003cbr\u003e\u003ci\u003eprecision_score_weighted\u003c/i\u003e|\n",
                                     "|**iteration_timeout_minutes**|Time limit in minutes for each iteration.|\n",
                                     "|**iterations**|Number of iterations. In each iteration AutoML trains a specific pipeline with the data.|\n",
                                     "|**n_cross_validations**|Number of cross validation splits.|\n",
                                     "|**max_concurrent_iterations**|Maximum number of iterations to execute in parallel. This should be less than the number of cores on the DSVM.|"
                                 ]
                  },
                  {
                      "cell_type":  "code",
                      "execution_count":  null,
                      "metadata":  {

                                   },
                      "outputs":  [

                                  ],
                      "source":  [
                                     "automl_settings = {\n",
                                     "    \"iteration_timeout_minutes\": 10,\n",
                                     "    \"iterations\": 20,\n",
                                     "    \"n_cross_validations\": 5,\n",
                                     "    \"primary_metric\": \u0027AUC_weighted\u0027,\n",
                                     "    \"preprocess\": False,\n",
                                     "    \"max_concurrent_iterations\": 2,\n",
                                     "    \"verbosity\": logging.INFO\n",
                                     "}\n",
                                     "\n",
                                     "automl_config = AutoMLConfig(task = \u0027classification\u0027,\n",
                                     "                             debug_log = \u0027automl_errors.log\u0027,\n",
                                     "                             path = project_folder, \n",
                                     "                             run_configuration=conda_run_config,\n",
                                     "                             data_script = project_folder + \"/get_data.py\",\n",
                                     "                             **automl_settings\n",
                                     "                            )\n"
                                 ]
                  },
                  {
                      "cell_type":  "markdown",
                      "metadata":  {

                                   },
                      "source":  [
                                     "**Note:** The first run on a new DSVM may take several minutes to prepare the environment."
                                 ]
                  },
                  {
                      "cell_type":  "markdown",
                      "metadata":  {

                                   },
                      "source":  [
                                     "Call the `submit` method on the experiment object and pass the run configuration. For remote runs the execution is asynchronous, so you will see the iterations get populated as they complete. You can interact with the widgets and models even when the experiment is running to retrieve the best model up to that point. Once you are satisfied with the model, you can cancel a particular iteration or the whole run.\n",
                                     "\n",
                                     "In this example, we specify `show_output = False` to suppress console output while the run is in progress."
                                 ]
                  },
                  {
                      "cell_type":  "code",
                      "execution_count":  null,
                      "metadata":  {

                                   },
                      "outputs":  [

                                  ],
                      "source":  [
                                     "remote_run = experiment.submit(automl_config, show_output = False)"
                                 ]
                  },
                  {
                      "cell_type":  "code",
                      "execution_count":  null,
                      "metadata":  {

                                   },
                      "outputs":  [

                                  ],
                      "source":  [
                                     "remote_run"
                                 ]
                  },
                  {
                      "cell_type":  "markdown",
                      "metadata":  {

                                   },
                      "source":  [
                                     "## Results\n",
                                     "\n",
                                     "#### Loading Executed Runs\n",
                                     "In case you need to load a previously executed run, enable the cell below and replace the `run_id` value."
                                 ]
                  },
                  {
                      "cell_type":  "raw",
                      "metadata":  {

                                   },
                      "source":  [
                                     "remote_run = AutoMLRun(experiment=experiment, run_id = \u0027AutoML_480d3ed6-fc94-44aa-8f4e-0b945db9d3ef\u0027)"
                                 ]
                  },
                  {
                      "cell_type":  "markdown",
                      "metadata":  {

                                   },
                      "source":  [
                                     "#### Widget for Monitoring Runs\n",
                                     "\n",
                                     "The widget will first report a \"loading\" status while running the first iteration. After completing the first iteration, an auto-updating graph and table will be shown. The widget will refresh once per minute, so you should see the graph update as child runs complete.\n",
                                     "\n",
                                     "You can click on a pipeline to see run properties and output logs.  Logs are also available on the DSVM under `/tmp/azureml_run/{iterationid}/azureml-logs`\n",
                                     "\n",
                                     "**Note:** The widget displays a link at the bottom. Use this link to open a web interface to explore the individual run details."
                                 ]
                  },
                  {
                      "cell_type":  "code",
                      "execution_count":  null,
                      "metadata":  {

                                   },
                      "outputs":  [

                                  ],
                      "source":  [
                                     "from azureml.widgets import RunDetails\n",
                                     "RunDetails(remote_run).show() "
                                 ]
                  },
                  {
                      "cell_type":  "code",
                      "execution_count":  null,
                      "metadata":  {

                                   },
                      "outputs":  [

                                  ],
                      "source":  [
                                     "# Wait until the run finishes.\n",
                                     "remote_run.wait_for_completion(show_output = True)"
                                 ]
                  },
                  {
                      "cell_type":  "markdown",
                      "metadata":  {

                                   },
                      "source":  [
                                     "\n",
                                     "#### Retrieve All Child Runs\n",
                                     "You can also use SDK methods to fetch all the child runs and see individual metrics that we log."
                                 ]
                  },
                  {
                      "cell_type":  "code",
                      "execution_count":  null,
                      "metadata":  {

                                   },
                      "outputs":  [

                                  ],
                      "source":  [
                                     "children = list(remote_run.get_children())\n",
                                     "metricslist = {}\n",
                                     "for run in children:\n",
                                     "    properties = run.get_properties()\n",
                                     "    metrics = {k: v for k, v in run.get_metrics().items() if isinstance(v, float)}    \n",
                                     "    metricslist[int(properties[\u0027iteration\u0027])] = metrics\n",
                                     "\n",
                                     "rundata = pd.DataFrame(metricslist).sort_index(1)\n",
                                     "rundata"
                                 ]
                  },
                  {
                      "cell_type":  "markdown",
                      "metadata":  {

                                   },
                      "source":  [
                                     "### Cancelling Runs\n",
                                     "\n",
                                     "You can cancel ongoing remote runs using the `cancel` and `cancel_iteration` functions."
                                 ]
                  },
                  {
                      "cell_type":  "code",
                      "execution_count":  null,
                      "metadata":  {

                                   },
                      "outputs":  [

                                  ],
                      "source":  [
                                     "# Cancel the ongoing experiment and stop scheduling new iterations.\n",
                                     "# remote_run.cancel()\n",
                                     "\n",
                                     "# Cancel iteration 1 and move onto iteration 2.\n",
                                     "# remote_run.cancel_iteration(1)"
                                 ]
                  },
                  {
                      "cell_type":  "markdown",
                      "metadata":  {

                                   },
                      "source":  [
                                     "### Retrieve the Best Model\n",
                                     "\n",
                                     "Below we select the best pipeline from our iterations. The `get_output` method returns the best run and the fitted model. The Model includes the pipeline and any pre-processing.  Overloads on `get_output` allow you to retrieve the best run and fitted model for *any* logged metric or for a particular *iteration*."
                                 ]
                  },
                  {
                      "cell_type":  "code",
                      "execution_count":  null,
                      "metadata":  {

                                   },
                      "outputs":  [

                                  ],
                      "source":  [
                                     "best_run, fitted_model = remote_run.get_output()\n",
                                     "print(best_run)\n",
                                     "print(fitted_model)"
                                 ]
                  },
                  {
                      "cell_type":  "markdown",
                      "metadata":  {

                                   },
                      "source":  [
                                     "#### Best Model Based on Any Other Metric\n",
                                     "Show the run and the model which has the smallest `log_loss` value:"
                                 ]
                  },
                  {
                      "cell_type":  "code",
                      "execution_count":  null,
                      "metadata":  {

                                   },
                      "outputs":  [

                                  ],
                      "source":  [
                                     "lookup_metric = \"log_loss\"\n",
                                     "best_run, fitted_model = remote_run.get_output(metric = lookup_metric)\n",
                                     "print(best_run)\n",
                                     "print(fitted_model)"
                                 ]
                  },
                  {
                      "cell_type":  "markdown",
                      "metadata":  {

                                   },
                      "source":  [
                                     "#### Model from a Specific Iteration\n",
                                     "Show the run and the model from the third iteration:"
                                 ]
                  },
                  {
                      "cell_type":  "code",
                      "execution_count":  null,
                      "metadata":  {

                                   },
                      "outputs":  [

                                  ],
                      "source":  [
                                     "iteration = 3\n",
                                     "third_run, third_model = remote_run.get_output(iteration = iteration)\n",
                                     "print(third_run)\n",
                                     "print(third_model)"
                                 ]
                  },
                  {
                      "cell_type":  "markdown",
                      "metadata":  {

                                   },
                      "source":  [
                                     "## Test\n",
                                     "\n",
                                     "#### Load Test Data"
                                 ]
                  },
                  {
                      "cell_type":  "code",
                      "execution_count":  null,
                      "metadata":  {

                                   },
                      "outputs":  [

                                  ],
                      "source":  [
                                     "digits = datasets.load_digits()\n",
                                     "X_test = digits.data[:10, :]\n",
                                     "y_test = digits.target[:10]\n",
                                     "images = digits.images[:10]"
                                 ]
                  },
                  {
                      "cell_type":  "markdown",
                      "metadata":  {

                                   },
                      "source":  [
                                     "#### Test Our Best Fitted Model"
                                 ]
                  },
                  {
                      "cell_type":  "code",
                      "execution_count":  null,
                      "metadata":  {

                                   },
                      "outputs":  [

                                  ],
                      "source":  [
                                     "# Randomly select digits and test.\n",
                                     "for index in np.random.choice(len(y_test), 2, replace = False):\n",
                                     "    print(index)\n",
                                     "    predicted = fitted_model.predict(X_test[index:index + 1])[0]\n",
                                     "    label = y_test[index]\n",
                                     "    title = \"Label value = %d  Predicted value = %d \" % (label, predicted)\n",
                                     "    fig = plt.figure(1, figsize=(3,3))\n",
                                     "    ax1 = fig.add_axes((0,0,.8,.8))\n",
                                     "    ax1.set_title(title)\n",
                                     "    plt.imshow(images[index], cmap = plt.cm.gray_r, interpolation = \u0027nearest\u0027)\n",
                                     "    plt.show()"
                                 ]
                  }
              ],
    "metadata":  {
                     "authors":  [
                                     {
                                         "name":  "savitam"
                                     }
                                 ],
                     "kernelspec":  {
                                        "display_name":  "Python 3.6 - AzureML",
                                        "language":  "python",
                                        "name":  "python3-azureml"
                                    },
                     "language_info":  {
                                           "codemirror_mode":  {
                                                                   "name":  "ipython",
                                                                   "version":  3
                                                               },
                                           "file_extension":  ".py",
                                           "mimetype":  "text/x-python",
                                           "name":  "python",
                                           "nbconvert_exporter":  "python",
                                           "pygments_lexer":  "ipython3",
                                           "version":  "3.6.6"
                                       }
                 },
    "nbformat":  4,
    "nbformat_minor":  2
}
