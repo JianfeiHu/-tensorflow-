{
    "cells":  [
                  {
                      "cell_type":  "markdown",
                      "metadata":  {

                                   },
                      "source":  [
                                     "Copyright (c) Microsoft Corporation. All rights reserved.\n",
                                     "\n",
                                     "Licensed under the MIT License."
                                 ]
                  },
                  {
                      "cell_type":  "markdown",
                      "metadata":  {

                                   },
                      "source":  [
                                     "# AutoML 019: Explain model with Remote Execution using DSVM (Ubuntu)\n",
                                     "\n",
                                     "In this example we use the sklearn\u0027s [iris dataset](http://scikit-learn.org/stable/modules/generated/sklearn.datasets.load_iris.html) to showcase how you can use AutoML for a simple classification problem.\n",
                                     "\n",
                                     "Make sure you have executed the [00.configuration](00.configuration.ipynb) before running this notebook.\n",
                                     "\n",
                                     "In this notebook you wiil learn how to:\n",
                                     "1. Create an `Experiment` in an existing `Workspace`.\n",
                                     "2. Attach an existing DSVM to a workspace.\n",
                                     "3. Configure AutoML using `AutoMLConfig`.\n",
                                     "4. Train the model using the DSVM.\n",
                                     "5. Get the best fitted model\n",
                                     "6. Get best fitted model\u0027s explanation"
                                 ]
                  },
                  {
                      "cell_type":  "markdown",
                      "metadata":  {

                                   },
                      "source":  [
                                     "## Create an Experiment\n",
                                     "\n",
                                     "As part of the setup you have already created an Azure ML `Workspace` object. For AutoML you will need to create an `Experiment` object, which is a named object in a `Workspace` used to run experiments."
                                 ]
                  },
                  {
                      "cell_type":  "code",
                      "execution_count":  null,
                      "metadata":  {

                                   },
                      "outputs":  [

                                  ],
                      "source":  [
                                     "import logging\n",
                                     "import os\n",
                                     "import random\n",
                                     "import time\n",
                                     "\n",
                                     "import numpy as np\n",
                                     "import pandas as pd\n",
                                     "from sklearn import datasets\n",
                                     "\n",
                                     "import azureml.core\n",
                                     "from azureml.core.experiment import Experiment\n",
                                     "from azureml.core.workspace import Workspace\n",
                                     "from azureml.train.automl import AutoMLConfig\n",
                                     "from azureml.train.automl.run import AutoMLRun"
                                 ]
                  },
                  {
                      "cell_type":  "code",
                      "execution_count":  null,
                      "metadata":  {

                                   },
                      "outputs":  [

                                  ],
                      "source":  [
                                     "ws = Workspace.from_config()\n",
                                     "\n",
                                     "# Choose a name for the run history container in the workspace.\n",
                                     "experiment_name = \u0027automl-remote-dsvm19\u0027\n",
                                     "project_folder = \u0027./sample_projects/automl-remote-dsvm19\u0027\n",
                                     "\n",
                                     "experiment = Experiment(ws, experiment_name)\n",
                                     "\n",
                                     "output = {}\n",
                                     "output[\u0027SDK version\u0027] = azureml.core.VERSION\n",
                                     "output[\u0027Subscription ID\u0027] = ws.subscription_id\n",
                                     "output[\u0027Workspace Name\u0027] = ws.name\n",
                                     "output[\u0027Resource Group\u0027] = ws.resource_group\n",
                                     "output[\u0027Location\u0027] = ws.location\n",
                                     "output[\u0027Project Directory\u0027] = project_folder\n",
                                     "output[\u0027Experiment Name\u0027] = experiment.name\n",
                                     "pd.set_option(\u0027display.max_colwidth\u0027, -1)\n",
                                     "pd.DataFrame(data = output, index = [\u0027\u0027]).T"
                                 ]
                  },
                  {
                      "cell_type":  "markdown",
                      "metadata":  {

                                   },
                      "source":  [
                                     "## Diagnostics\n",
                                     "\n",
                                     "Opt-in diagnostics for better experience, quality, and security of future releases."
                                 ]
                  },
                  {
                      "cell_type":  "code",
                      "execution_count":  null,
                      "metadata":  {

                                   },
                      "outputs":  [

                                  ],
                      "source":  [
                                     "from azureml.telemetry import set_diagnostics_collection\n",
                                     "set_diagnostics_collection(send_diagnostics = True)"
                                 ]
                  },
                  {
                      "cell_type":  "markdown",
                      "metadata":  {

                                   },
                      "source":  [
                                     "## Create a Remote Linux DSVM\n",
                                     "**Note:** If creation fails with a message about Marketplace purchase eligibilty, start creation of a DSVM through the [Azure portal](https://portal.azure.com), and select \"Want to create programmatically\" to enable programmatic creation. Once you\u0027ve enabled this setting, you can exit the portal without actually creating the DSVM, and creation of the DSVM through the notebook should work.\n"
                                 ]
                  },
                  {
                      "cell_type":  "code",
                      "execution_count":  null,
                      "metadata":  {

                                   },
                      "outputs":  [

                                  ],
                      "source":  [
                                     "from azureml.core.compute import DsvmCompute\n",
                                     "\n",
                                     "dsvm_name = \u0027explainmodeldsvm\u0027\n",
                                     "try:\n",
                                     "    dsvm_compute = DsvmCompute(ws, dsvm_name)\n",
                                     "    print(\u0027Found an existing DSVM.\u0027)\n",
                                     "except:\n",
                                     "    print(\u0027Creating a new DSVM.\u0027)\n",
                                     "    dsvm_config = DsvmCompute.provisioning_configuration(vm_size = \"Standard_D2_v2\")\n",
                                     "    dsvm_compute = DsvmCompute.create(ws, name = dsvm_name, provisioning_configuration = dsvm_config)\n",
                                     "    dsvm_compute.wait_for_completion(show_output = True)\n",
                                     "    print(\"Waiting one minute for ssh to be accessible\")\n",
                                     "    time.sleep(60) # Wait for ssh to be accessible"
                                 ]
                  },
                  {
                      "cell_type":  "markdown",
                      "metadata":  {

                                   },
                      "source":  [
                                     "## Create Get Data File\n",
                                     "For remote executions you should author a `get_data.py` file containing a `get_data()` function. This file should be in the root directory of the project. You can encapsulate code to read data either from a blob storage or local disk in this file.\n",
                                     "In this example, the `get_data()` function returns data using scikit-learn\u0027s [load_digits](http://scikit-learn.org/stable/modules/generated/sklearn.datasets.load_digits.html) method."
                                 ]
                  },
                  {
                      "cell_type":  "code",
                      "execution_count":  null,
                      "metadata":  {

                                   },
                      "outputs":  [

                                  ],
                      "source":  [
                                     "if not os.path.exists(project_folder):\n",
                                     "    os.makedirs(project_folder)"
                                 ]
                  },
                  {
                      "cell_type":  "code",
                      "execution_count":  null,
                      "metadata":  {

                                   },
                      "outputs":  [

                                  ],
                      "source":  [
                                     "%%writefile $project_folder/get_data.py\n",
                                     "\n",
                                     "from sklearn import datasets\n",
                                     "from sklearn.model_selection import train_test_split\n",
                                     "from scipy import sparse\n",
                                     "import numpy as np\n",
                                     "\n",
                                     "def get_data():\n",
                                     "    iris = datasets.load_iris()\n",
                                     "    y = iris.target\n",
                                     "    X = iris.data\n",
                                     "    X_train, X_test, y_train, y_test = train_test_split(X,\n",
                                     "                                                    y,\n",
                                     "                                                    test_size=0.1,\n",
                                     "                                                    random_state=100,\n",
                                     "                                                    stratify=y)\n",
                                     "\n",
                                     "    return { \"X\" : X_train, \"y\" : y_train, \"X_valid\" : X_test, \"y_valid\" : y_test }"
                                 ]
                  },
                  {
                      "cell_type":  "markdown",
                      "metadata":  {

                                   },
                      "source":  [
                                     "## Configure AutoML \u003ca class=\"anchor\" id=\"Instantiate-AutoML-Remote-DSVM\"\u003e\u003c/a\u003e\n",
                                     "\n",
                                     "You can specify `automl_settings` as `**kwargs` as well. Also note that you can use a `get_data()` function for local excutions too.\n",
                                     "\n",
                                     "**Note:** When using Remote DSVM, you can\u0027t pass Numpy arrays directly to the fit method.\n",
                                     "\n",
                                     "|Property|Description|\n",
                                     "|-|-|\n",
                                     "|**primary_metric**|This is the metric that you want to optimize. Classification supports the following primary metrics: \u003cbr\u003e\u003ci\u003eaccuracy\u003c/i\u003e\u003cbr\u003e\u003ci\u003eAUC_weighted\u003c/i\u003e\u003cbr\u003e\u003ci\u003ebalanced_accuracy\u003c/i\u003e\u003cbr\u003e\u003ci\u003eaverage_precision_score_weighted\u003c/i\u003e\u003cbr\u003e\u003ci\u003eprecision_score_weighted\u003c/i\u003e|\n",
                                     "|**iteration_timeout_minutes**|Time limit in minutes for each iteration.|\n",
                                     "|**iterations**|Number of iterations. In each iteration AutoML trains a specific pipeline with the data.|\n",
                                     "|**model_explainability**|\tIndicate to explain each trained pipeline or not.|\n",
                                     "|**max_concurrent_iterations**|Maximum number of iterations to execute in parallel. This should be less than the number of cores on the DSVM.|"
                                 ]
                  },
                  {
                      "cell_type":  "code",
                      "execution_count":  null,
                      "metadata":  {

                                   },
                      "outputs":  [

                                  ],
                      "source":  [
                                     "automl_settings = {\n",
                                     "    \"iterations\": 20,\n",
                                     "    \"primary_metric\": \u0027AUC_weighted\u0027,\n",
                                     "    \"preprocess\": False,\n",
                                     "    \"max_concurrent_iterations\": 2,\n",
                                     "    \"model_explainability\": True,\n",
                                     "    \"verbosity\": logging.INFO\n",
                                     "}\n",
                                     "\n",
                                     "automl_config = AutoMLConfig(task = \u0027classification\u0027,\n",
                                     "                             debug_log = \u0027automl_errors10.log\u0027,\n",
                                     "                             path = project_folder, \n",
                                     "                             compute_target = dsvm_compute,\n",
                                     "                             data_script = project_folder + \"/get_data.py\",\n",
                                     "                             **automl_settings\n",
                                     "                            )\n"
                                 ]
                  },
                  {
                      "cell_type":  "markdown",
                      "metadata":  {

                                   },
                      "source":  [
                                     "**Note:** The first run on a new DSVM may take several minutes to prepare the environment."
                                 ]
                  },
                  {
                      "cell_type":  "markdown",
                      "metadata":  {

                                   },
                      "source":  [
                                     "## Train the Models\n",
                                     "\n",
                                     "Call the `submit` method on the experiment object and pass the run configuration. For remote runs the execution is asynchronous, so you will see the iterations get populated as they complete. You can interact with the widgets and models even when the experiment is running to retrieve the best model up to that point. Once you are satisfied with the model, you can cancel a particular iteration or the whole run.\n",
                                     "\n",
                                     "In this example, we specify `show_output = False` to suppress console output while the run is in progress."
                                 ]
                  },
                  {
                      "cell_type":  "code",
                      "execution_count":  null,
                      "metadata":  {

                                   },
                      "outputs":  [

                                  ],
                      "source":  [
                                     "remote_run = experiment.submit(automl_config, show_output = False)"
                                 ]
                  },
                  {
                      "cell_type":  "markdown",
                      "metadata":  {

                                   },
                      "source":  [
                                     "#### Widget for Monitoring Runs\n",
                                     "\n",
                                     "The widget will first report a \"loading\" status while running the first iteration. After completing the first iteration, an auto-updating graph and table will be shown. The widget will refresh once per minute, so you should see the graph update as child runs complete.\n",
                                     "\n",
                                     "You can click on a pipeline to see run properties and output logs.  Logs are also available on the DSVM under `/tmp/azureml_run/{iterationid}/azureml-logs`\n",
                                     "\n",
                                     "**Note:** The widget displays a link at the bottom. Use this link to open a web interface to explore the individual run details."
                                 ]
                  },
                  {
                      "cell_type":  "code",
                      "execution_count":  null,
                      "metadata":  {

                                   },
                      "outputs":  [

                                  ],
                      "source":  [
                                     "from azureml.widgets import RunDetails\n",
                                     "RunDetails(remote_run).show()"
                                 ]
                  },
                  {
                      "cell_type":  "code",
                      "execution_count":  null,
                      "metadata":  {

                                   },
                      "outputs":  [

                                  ],
                      "source":  [
                                     "# Wait until the run finishes.\n",
                                     "remote_run.wait_for_completion(show_output = True)"
                                 ]
                  },
                  {
                      "cell_type":  "markdown",
                      "metadata":  {

                                   },
                      "source":  [
                                     "### Retrieve the Best Model\n",
                                     "\n",
                                     "Below we select the best pipeline from our iterations. The `get_output` method returns the best run and the fitted model. The Model includes the pipeline and any pre-processing.  Overloads on `get_output` allow you to retrieve the best run and fitted model for *any* logged metric or for a particular *iteration*."
                                 ]
                  },
                  {
                      "cell_type":  "code",
                      "execution_count":  null,
                      "metadata":  {

                                   },
                      "outputs":  [

                                  ],
                      "source":  [
                                     "best_run, fitted_model = remote_run.get_output()\n",
                                     "print(best_run)\n",
                                     "print(fitted_model)"
                                 ]
                  },
                  {
                      "cell_type":  "markdown",
                      "metadata":  {

                                   },
                      "source":  [
                                     "### Best Model \u0027s explanation\n",
                                     "\n",
                                     "Give me the explanation information for best run\n",
                                     "1.\tshap_values: The explanation information generated by shap lib\n",
                                     "2.\texpected_values: The expected value of the model applied to set of X_train data.\n",
                                     "3.\toverall_summary: The model level feature importance values sorted in descending order\n",
                                     "4.\toverall_imp: The feature names sorted in the same order as in overall_summary\n",
                                     "5.\tper_class_summary: The class level feature importance values sorted in descending order. Only available for the classification case\n",
                                     "6.\tper_class_imp: The feature names sorted in the same order as in per_class_summary. Only available for the classification case"
                                 ]
                  },
                  {
                      "cell_type":  "code",
                      "execution_count":  null,
                      "metadata":  {

                                   },
                      "outputs":  [

                                  ],
                      "source":  [
                                     "from azureml.train.automl.automlexplainer import retrieve_model_explanation\n",
                                     "\n",
                                     "shap_values, expected_values, overall_summary, overall_imp, per_class_summary, per_class_imp = \\\n",
                                     "    retrieve_model_explanation(best_run)"
                                 ]
                  },
                  {
                      "cell_type":  "code",
                      "execution_count":  null,
                      "metadata":  {

                                   },
                      "outputs":  [

                                  ],
                      "source":  [
                                     "print(overall_summary)\n",
                                     "print(overall_imp)"
                                 ]
                  },
                  {
                      "cell_type":  "code",
                      "execution_count":  null,
                      "metadata":  {

                                   },
                      "outputs":  [

                                  ],
                      "source":  [
                                     "print(per_class_summary)\n",
                                     "print(per_class_imp)"
                                 ]
                  }
              ],
    "metadata":  {
                     "authors":  [
                                     {
                                         "name":  "savitam"
                                     }
                                 ],
                     "kernelspec":  {
                                        "display_name":  "Python 3.6 - AzureML",
                                        "language":  "python",
                                        "name":  "python3-azureml"
                                    },
                     "language_info":  {
                                           "codemirror_mode":  {
                                                                   "name":  "ipython",
                                                                   "version":  3
                                                               },
                                           "file_extension":  ".py",
                                           "mimetype":  "text/x-python",
                                           "name":  "python",
                                           "nbconvert_exporter":  "python",
                                           "pygments_lexer":  "ipython3",
                                           "version":  "3.6.6"
                                       }
                 },
    "nbformat":  4,
    "nbformat_minor":  2
}
