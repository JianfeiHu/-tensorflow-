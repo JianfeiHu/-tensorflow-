{
    "cells":  [
                  {
                      "cell_type":  "markdown",
                      "metadata":  {

                                   },
                      "source":  [
                                     "# AutoML 013: Test for automatic blacklisting of models based on size of dataset\n",
                                     "Copyright (c) Microsoft Corporation. All rights reserved.\n",
                                     "\n",
                                     "Licensed under the MIT License."
                                 ]
                  },
                  {
                      "cell_type":  "markdown",
                      "metadata":  {

                                   },
                      "source":  [
                                     "\n",
                                     "In this example we use the scikit learn\u0027s [digit dataset](http://scikit-learn.org/stable/modules/generated/sklearn.datasets.load_digits.html) to showcase how the AutoML Classifier omits algorithms that are unlikely to be performant given the structure of the training data (especially the number of samples).\n",
                                     "\n",
                                     "Make sure you have executed the [setup](setup.ipynb) before running this notebook.\n",
                                     "\n",
                                     "In this notebook you would see\n",
                                     "1. Creating or reusing an existing Project and Workspace\n",
                                     "2. Instantiating a AutoML Classifier \n",
                                     "4. Training the Model\n",
                                     "5. Exploring the results\n",
                                     "6. Testing the fitted model\n",
                                     "\n",
                                     "In addition this notebook showcases the following features\n",
                                     "- **Automatic blacklist** of certain pipelines"
                                 ]
                  },
                  {
                      "cell_type":  "markdown",
                      "metadata":  {

                                   },
                      "source":  [
                                     "\n",
                                     "## Create Project and Workspace\n",
                                     "\n",
                                     "As part of the setup you have already created a workspace. For AutoML you would need to create a \u003cb\u003eProject\u003c/b\u003e. A Project is a local folder that contains files for your Azure ML experiments. It is associated with a run history, a cloud container of run metrics and output artifacts from your experiments. You can either attach a local folder as a new project, or load a local folder as a project if it has been attached before."
                                 ]
                  },
                  {
                      "cell_type":  "code",
                      "execution_count":  null,
                      "metadata":  {

                                   },
                      "outputs":  [

                                  ],
                      "source":  [
                                     "import logging\n",
                                     "import os\n",
                                     "import random\n",
                                     "\n",
                                     "from matplotlib import pyplot as plt\n",
                                     "from matplotlib.pyplot import imshow\n",
                                     "import numpy as np\n",
                                     "import pandas as pd\n",
                                     "from sklearn import datasets\n",
                                     "\n",
                                     "import azureml.core\n",
                                     "from azureml.core.experiment import Experiment\n",
                                     "from azureml.core.workspace import Workspace\n",
                                     "from azureml.train.automl import AutoMLConfig\n",
                                     "from azureml.train.automl.run import AutoMLRun"
                                 ]
                  },
                  {
                      "cell_type":  "code",
                      "execution_count":  null,
                      "metadata":  {

                                   },
                      "outputs":  [

                                  ],
                      "source":  [
                                     "ws = Workspace.from_config()\n",
                                     "\n",
                                     "# choose a name for the run history container in the workspace\n",
                                     "experiment_name = \u0027automl-local-missing-data\u0027\n",
                                     "# project folder\n",
                                     "project_folder = \u0027./sample_projects/automl-local-missing-data\u0027\n",
                                     "\n",
                                     "experiment=Experiment(ws, experiment_name)\n",
                                     "\n",
                                     "output = {}\n",
                                     "output[\u0027SDK version\u0027] = azureml.core.VERSION\n",
                                     "output[\u0027Subscription ID\u0027] = ws.subscription_id\n",
                                     "output[\u0027Workspace\u0027] = ws.name\n",
                                     "output[\u0027Resource Group\u0027] = ws.resource_group\n",
                                     "output[\u0027Location\u0027] = ws.location\n",
                                     "output[\u0027Project Directory\u0027] = project_folder\n",
                                     "output[\u0027Experiment Name\u0027] = experiment_name\n",
                                     "pd.set_option(\u0027display.max_colwidth\u0027, -1)\n",
                                     "pd.DataFrame(data=output, index=[\u0027\u0027]).T"
                                 ]
                  },
                  {
                      "cell_type":  "markdown",
                      "metadata":  {

                                   },
                      "source":  [
                                     "## Diagnostics\n",
                                     "Opt-in diagnostics collection for better experience, quality, and security of future releases"
                                 ]
                  },
                  {
                      "cell_type":  "code",
                      "execution_count":  null,
                      "metadata":  {

                                   },
                      "outputs":  [

                                  ],
                      "source":  [
                                     "from azureml.telemetry import set_diagnostics_collection\n",
                                     "set_diagnostics_collection(send_diagnostics=True)"
                                 ]
                  },
                  {
                      "cell_type":  "markdown",
                      "metadata":  {

                                   },
                      "source":  [
                                     "Set your primary metric:"
                                 ]
                  },
                  {
                      "cell_type":  "code",
                      "execution_count":  null,
                      "metadata":  {
                                       "template_template_cell":  true
                                   },
                      "outputs":  [

                                  ],
                      "source":  [
                                     "primary_metric = \"AUC_weighted\"\n",
                                     "data_library = \"numpy\""
                                 ]
                  },
                  {
                      "cell_type":  "markdown",
                      "metadata":  {

                                   },
                      "source":  [
                                     "## Instantiate Auto ML\n",
                                     "\n",
                                     "\n",
                                     "Instantiate a AutoML Object This creates an Experiment in Azure ML. You can reuse this objects to trigger multiple runs. Each run will be part of the same experiment.\n",
                                     "\n",
                                     "|Property|Description|\n",
                                     "|-|-|\n",
                                     "|**primary_metric**|This is the metric that you want to optimize.\u003cbr\u003e Auto ML Classifier supports the following primary metrics \u003cbr\u003e\u003ci\u003eAUC_macro\u003c/i\u003e\u003cbr\u003e\u003ci\u003eAUC_weighted\u003c/i\u003e\u003cbr\u003e\u003ci\u003eaccuracy\u003c/i\u003e\u003cbr\u003e\u003ci\u003eweighted_accuracy\u003c/i\u003e\u003cbr\u003e\u003ci\u003enorm_macro_recall\u003c/i\u003e\u003cbr\u003e\u003ci\u003ebalanced_accuracy\u003c/i\u003e|\n",
                                     "|**iteration_timeout_minutes**|Time limit in minutes for each iterations|\n",
                                     "|**iterations**|Number of iterations. In each iteration Auto ML Classifier trains the data with a specific pipeline|\n",
                                     "|**num_cross_folds**|Cross Validation split|\n",
                                     "|**preprocess**| *True/False* \u003cbr\u003eSetting this to *True* enables Auto ML Classifier to perform preprocessing \u003cbr\u003eon the input to handle *missing data*, and perform some common *feature extraction*|\n",
                                     "|**experiment_exit_score**|*double* value indicating the target for *primary_metric*. \u003cbr\u003e Once the target is surpassed the run terminates|\n",
                                     "|**blacklist_models**|*Array* of *strings* indicating pipelines to ignore for Auto ML.\u003cbr\u003e\u003cbr\u003e Allowed values for **Classification**\u003cbr\u003e\u003ci\u003elogistic regression\u003c/i\u003e\u003cbr\u003e\u003ci\u003eSGD classifier\u003c/i\u003e\u003cbr\u003e\u003ci\u003eMultinomialNB\u003c/i\u003e\u003cbr\u003e\u003ci\u003eBernoulliNB\u003c/i\u003e\u003cbr\u003e\u003ci\u003eSVM\u003c/i\u003e\u003cbr\u003e\u003ci\u003eLinearSVM\u003c/i\u003e\u003cbr\u003e\u003ci\u003ekNN\u003c/i\u003e\u003cbr\u003e\u003ci\u003eDT\u003c/i\u003e\u003cbr\u003e\u003ci\u003eRF\u003c/i\u003e\u003cbr\u003e\u003ci\u003eextra trees\u003c/i\u003e\u003cbr\u003e\u003ci\u003egradient boosting\u003c/i\u003e\u003cbr\u003e\u003ci\u003elgbm_classifier\u003c/i\u003e\u003cbr\u003e\u003cbr\u003eAllowed values for **Regression**\u003cbr\u003e\u003ci\u003eElastic net\u003c/i\u003e\u003cbr\u003e\u003ci\u003eGradient boosting regressor\u003c/i\u003e\u003cbr\u003e\u003ci\u003eDT regressor\u003c/i\u003e\u003cbr\u003e\u003ci\u003ekNN regressor\u003c/i\u003e\u003cbr\u003e\u003ci\u003eLasso lars\u003c/i\u003e\u003cbr\u003e\u003ci\u003eSGD regressor\u003c/i\u003e\u003cbr\u003e\u003ci\u003eRF regressor\u003c/i\u003e\u003cbr\u003e\u003ci\u003eextra trees regressor\u003c/i\u003e\u003cbr\u003e\u003ci\u003elightGBM regressor\u003c/i\u003e|"
                                 ]
                  },
                  {
                      "cell_type":  "markdown",
                      "metadata":  {

                                   },
                      "source":  [
                                     "### Creating Large and Small Datasets"
                                 ]
                  },
                  {
                      "cell_type":  "code",
                      "execution_count":  null,
                      "metadata":  {

                                   },
                      "outputs":  [

                                  ],
                      "source":  [
                                     "digits = datasets.load_digits()\n",
                                     "\n",
                                     "# Split into training and test data\n",
                                     "X_digits_train = digits.data[10:,:]\n",
                                     "y_digits_train = digits.target[10:]\n",
                                     "\n",
                                     "X_digits_train_large = np.repeat(X_digits_train, 3, 0)\n",
                                     "y_digits_train_large = np.repeat(y_digits_train, 3)\n",
                                     "\n",
                                     "X_digits_test = digits.data[:10,:]\n",
                                     "y_digits_test = digits.target[:10]"
                                 ]
                  },
                  {
                      "cell_type":  "code",
                      "execution_count":  null,
                      "metadata":  {

                                   },
                      "outputs":  [

                                  ],
                      "source":  [
                                     "df = pd.DataFrame(data=X_digits_train)\n",
                                     "df[\u0027Label\u0027] = pd.Series(y_digits_train, index=df.index)\n",
                                     "df.head()"
                                 ]
                  },
                  {
                      "cell_type":  "code",
                      "execution_count":  null,
                      "metadata":  {

                                   },
                      "outputs":  [

                                  ],
                      "source":  [
                                     "x_data = X_digits_train_large\n",
                                     "y_data = y_digits_train_large\n",
                                     "\n",
                                     "if data_library == \u0027pandas\u0027:\n",
                                     "        x_data = pd.DataFrame(X_digits)\n",
                                     "        y_data = pd.DataFrame(y_digits)    \n",
                                     "        \n",
                                     "automl_config = AutoMLConfig(task = \u0027classification\u0027,\n",
                                     "                             debug_log = \u0027automl_errors.log\u0027,\n",
                                     "                             primary_metric = primary_metric,\n",
                                     "                             iteration_timeout_minutes = 60,\n",
                                     "                             iterations = 10,\n",
                                     "                             n_cross_validations = 2,\n",
                                     "                             verbosity = logging.INFO,\n",
                                     "                             X = x_data, \n",
                                     "                             y = y_data,\n",
                                     "                             preprocess = True,\n",
                                     "                             path = project_folder)"
                                 ]
                  },
                  {
                      "cell_type":  "markdown",
                      "metadata":  {

                                   },
                      "source":  [
                                     "## Training the Model\n",
                                     "\n",
                                     "You can call the fit method on the AutoML instance and pass the run configuration. For Local runs the execution is synchronous. Depending on the data and number of iterations this can run for while.\n",
                                     "You will see the currently running iterations printing to the console.\n",
                                     "\n",
                                     "*fit* method on Auto ML Classifier triggers the training of the model. It can be called with the following parameters\n",
                                     "\n",
                                     "|**Parameter**|**Description**|\n",
                                     "|-|-|\n",
                                     "|**X**|(sparse) array-like, shape = [n_samples, n_features]|\n",
                                     "|**y**|(sparse) array-like, shape = [n_samples, ], [n_samples, n_classes]\u003cbr\u003eMulti-class targets. An indicator matrix turns on multilabel classification.|\n",
                                     "|**compute_target**|Indicates the compute used for training. \u003ci\u003elocal\u003c/i\u003e indicates train on the same compute which hosts the jupyter notebook. \u003cbr\u003eFor DSVM and Batch AI please refer to the relevant notebooks.|\n",
                                     "|**show_output**| True/False to turn on/off console output|"
                                 ]
                  },
                  {
                      "cell_type":  "code",
                      "execution_count":  null,
                      "metadata":  {

                                   },
                      "outputs":  [

                                  ],
                      "source":  [
                                     "local_run = experiment.submit(automl_config, show_output=True)"
                                 ]
                  },
                  {
                      "cell_type":  "markdown",
                      "metadata":  {

                                   },
                      "source":  [
                                     "## Exploring the results"
                                 ]
                  },
                  {
                      "cell_type":  "markdown",
                      "metadata":  {

                                   },
                      "source":  [
                                     "#### Widget for monitoring runs\n",
                                     "\n",
                                     "The widget will sit on \"loading\" until the first iteration completed, then you will see an auto-updating graph and table show up. It refreshed once per minute, so you should see the graph update as child runs complete.\n",
                                     "\n",
                                     "NOTE: The widget will display a link at the bottom. This will not currently work, but will eventually link to a web-ui to explore the individual run details."
                                 ]
                  },
                  {
                      "cell_type":  "code",
                      "execution_count":  null,
                      "metadata":  {

                                   },
                      "outputs":  [

                                  ],
                      "source":  [
                                     "from azureml.widgets import RunDetails\n",
                                     "from azureml.train.automl.constants import MAX_SAMPLES_BLACKLIST_ALGOS as blacklist, MAX_SAMPLES_BLACKLIST as blacklist_threshold\n",
                                     "\n",
                                     "run_details = RunDetails(local_run)\n",
                                     "run_details.show()"
                                 ]
                  },
                  {
                      "cell_type":  "markdown",
                      "metadata":  {

                                   },
                      "source":  [
                                     "#### Test Blacklist\n",
                                     "Check for blacklisted algorithms in the child runs when the number of samples is above the assigned threshold"
                                 ]
                  },
                  {
                      "cell_type":  "code",
                      "execution_count":  null,
                      "metadata":  {

                                   },
                      "outputs":  [

                                  ],
                      "source":  [
                                     "child_runs = run_details.get_widget_data()[\u0027child_runs\u0027]\n",
                                     "pipeline_names = [child_run[\u0027run_name\u0027] for child_run in child_runs]\n",
                                     "\n",
                                     "def flatten(xs):\n",
                                     "    return [y for x in xs for y in x]\n",
                                     "\n",
                                     "stages = flatten([name.split(\u0027, \u0027) for name in pipeline_names])\n",
                                     "autoblacklist_success = set(stages).isdisjoint(blacklist)\n",
                                     "if len(y_data) \u003e blacklist_threshold:\n",
                                     "    assert(autoblacklist_success)\n",
                                     "    if autoblacklist_success:\n",
                                     "        print(\"Successful autoblacklist\")\n",
                                     "else:\n",
                                     "    print(\"Not enough data to autoblacklist\")"
                                 ]
                  },
                  {
                      "cell_type":  "markdown",
                      "metadata":  {

                                   },
                      "source":  [
                                     "\n",
                                     "#### Retrieve All Child Runs\n",
                                     "You can also use sdk methods to fetch all the child runs and see individual metrics that we log. "
                                 ]
                  },
                  {
                      "cell_type":  "code",
                      "execution_count":  null,
                      "metadata":  {

                                   },
                      "outputs":  [

                                  ],
                      "source":  [
                                     "children = list(local_run.get_children())\n",
                                     "metricslist = {}\n",
                                     "for run in children:\n",
                                     "    properties = run.get_properties()\n",
                                     "    metrics = run.get_metrics()    \n",
                                     "    metricslist[properties[\u0027iteration\u0027]] = metrics\n",
                                     "\n",
                                     "rundata = pd.DataFrame(metricslist).sort_index(1)\n",
                                     "rundata"
                                 ]
                  },
                  {
                      "cell_type":  "code",
                      "execution_count":  null,
                      "metadata":  {

                                   },
                      "outputs":  [

                                  ],
                      "source":  [

                                 ]
                  }
              ],
    "metadata":  {
                     "authors":  [
                                     {
                                         "name":  "savitam"
                                     }
                                 ],
                     "kernelspec":  {
                                        "display_name":  "Python 3.6 - AzureML",
                                        "language":  "python",
                                        "name":  "python3-azureml"
                                    },
                     "language_info":  {
                                           "codemirror_mode":  {
                                                                   "name":  "ipython",
                                                                   "version":  3
                                                               },
                                           "file_extension":  ".py",
                                           "mimetype":  "text/x-python",
                                           "name":  "python",
                                           "nbconvert_exporter":  "python",
                                           "pygments_lexer":  "ipython3",
                                           "version":  "3.6.5"
                                       }
                 },
    "nbformat":  4,
    "nbformat_minor":  2
}
