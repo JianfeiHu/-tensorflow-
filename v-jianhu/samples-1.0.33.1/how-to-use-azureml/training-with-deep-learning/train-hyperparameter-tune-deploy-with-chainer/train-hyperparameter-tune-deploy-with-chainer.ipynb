{
    "cells":  [
                  {
                      "cell_type":  "markdown",
                      "metadata":  {

                                   },
                      "source":  [
                                     "Copyright (c) Microsoft Corporation. All rights reserved.  \n",
                                     "\n",
                                     "Licensed under the MIT License."
                                 ]
                  },
                  {
                      "cell_type":  "markdown",
                      "metadata":  {

                                   },
                      "source":  [
                                     "# Train and hyperparameter tune with Chainer\n",
                                     "\n",
                                     "In this tutorial, we demonstrate how to use the Azure ML Python SDK to train a Convolutional Neural Network (CNN) on a single-node GPU with Chainer to perform handwritten digit recognition on the popular MNIST dataset. We will also demonstrate how to perform hyperparameter tuning of the model using Azure ML\u0027s HyperDrive service."
                                 ]
                  },
                  {
                      "cell_type":  "markdown",
                      "metadata":  {

                                   },
                      "source":  [
                                     "## Prerequisites\n",
                                     "* Go through the [Configuration](../../../configuration.ipynb) notebook to install the Azure Machine Learning Python SDK and create an Azure ML `Workspace`"
                                 ]
                  },
                  {
                      "cell_type":  "code",
                      "execution_count":  null,
                      "metadata":  {

                                   },
                      "outputs":  [

                                  ],
                      "source":  [
                                     "# Check core SDK version number\n",
                                     "import azureml.core\n",
                                     "\n",
                                     "print(\"SDK version:\", azureml.core.VERSION)"
                                 ]
                  },
                  {
                      "cell_type":  "markdown",
                      "metadata":  {

                                   },
                      "source":  [
                                     "## Diagnostics\n",
                                     "Opt-in diagnostics for better experience, quality, and security of future releases."
                                 ]
                  },
                  {
                      "cell_type":  "code",
                      "execution_count":  null,
                      "metadata":  {
                                       "tags":  [
                                                    "Diagnostics"
                                                ]
                                   },
                      "outputs":  [

                                  ],
                      "source":  [
                                     "from azureml.telemetry import set_diagnostics_collection\n",
                                     "\n",
                                     "set_diagnostics_collection(send_diagnostics=True)"
                                 ]
                  },
                  {
                      "cell_type":  "markdown",
                      "metadata":  {

                                   },
                      "source":  [
                                     "## Initialize workspace\n",
                                     "Initialize a [Workspace](https://docs.microsoft.com/azure/machine-learning/service/concept-azure-machine-learning-architecture#workspace) object from the existing workspace you created in the Prerequisites step. `Workspace.from_config()` creates a workspace object from the details stored in `config.json`."
                                 ]
                  },
                  {
                      "cell_type":  "code",
                      "execution_count":  null,
                      "metadata":  {

                                   },
                      "outputs":  [

                                  ],
                      "source":  [
                                     "from azureml.core.workspace import Workspace\n",
                                     "\n",
                                     "ws = Workspace.from_config()\n",
                                     "print(\u0027Workspace name: \u0027 + ws.name, \n",
                                     "      \u0027Azure region: \u0027 + ws.location, \n",
                                     "      \u0027Subscription id: \u0027 + ws.subscription_id, \n",
                                     "      \u0027Resource group: \u0027 + ws.resource_group, sep = \u0027\\n\u0027)"
                                 ]
                  },
                  {
                      "cell_type":  "markdown",
                      "metadata":  {

                                   },
                      "source":  [
                                     "## Create or Attach existing AmlCompute\n",
                                     "You will need to create a [compute target](https://docs.microsoft.com/azure/machine-learning/service/concept-azure-machine-learning-architecture#compute-target) for training your model. In this tutorial, we use Azure ML managed compute ([AmlCompute](https://docs.microsoft.com/azure/machine-learning/service/how-to-set-up-training-targets#amlcompute)) for our remote training compute resource.\n",
                                     "\n",
                                     "**Creation of AmlCompute takes approximately 5 minutes.** If the AmlCompute with that name is already in your workspace, this code will skip the creation process.\n",
                                     "\n",
                                     "As with other Azure services, there are limits on certain resources (e.g. AmlCompute) associated with the Azure Machine Learning service. Please read [this article](https://docs.microsoft.com/en-us/azure/machine-learning/service/how-to-manage-quotas) on the default limits and how to request more quota."
                                 ]
                  },
                  {
                      "cell_type":  "code",
                      "execution_count":  null,
                      "metadata":  {

                                   },
                      "outputs":  [

                                  ],
                      "source":  [
                                     "from azureml.core.compute import ComputeTarget, AmlCompute\n",
                                     "from azureml.core.compute_target import ComputeTargetException\n",
                                     "\n",
                                     "# choose a name for your cluster\n",
                                     "cluster_name = \"gpucluster\"\n",
                                     "\n",
                                     "try:\n",
                                     "    compute_target = ComputeTarget(workspace=ws, name=cluster_name)\n",
                                     "    print(\u0027Found existing compute target.\u0027)\n",
                                     "except ComputeTargetException:\n",
                                     "    print(\u0027Creating a new compute target...\u0027)\n",
                                     "    compute_config = AmlCompute.provisioning_configuration(vm_size=\u0027STANDARD_NC6\u0027, \n",
                                     "                                                           max_nodes=4)\n",
                                     "\n",
                                     "    # create the cluster\n",
                                     "    compute_target = ComputeTarget.create(ws, cluster_name, compute_config)\n",
                                     "\n",
                                     "    compute_target.wait_for_completion(show_output=True)\n",
                                     "\n",
                                     "# use get_status() to get a detailed status for the current cluster. \n",
                                     "print(compute_target.get_status().serialize())"
                                 ]
                  },
                  {
                      "cell_type":  "markdown",
                      "metadata":  {

                                   },
                      "source":  [
                                     "The above code creates a GPU cluster. If you instead want to create a CPU cluster, provide a different VM size to the `vm_size` parameter, such as `STANDARD_D2_V2`."
                                 ]
                  },
                  {
                      "cell_type":  "markdown",
                      "metadata":  {

                                   },
                      "source":  [
                                     "## Train model on the remote compute\n",
                                     "Now that you have your data and training script prepared, you are ready to train on your remote compute cluster. You can take advantage of Azure compute to leverage GPUs to cut down your training time. "
                                 ]
                  },
                  {
                      "cell_type":  "markdown",
                      "metadata":  {

                                   },
                      "source":  [
                                     "### Create a project directory\n",
                                     "Create a directory that will contain all the necessary code from your local machine that you will need access to on the remote resource. This includes the training script and any additional files your training script depends on."
                                 ]
                  },
                  {
                      "cell_type":  "code",
                      "execution_count":  null,
                      "metadata":  {

                                   },
                      "outputs":  [

                                  ],
                      "source":  [
                                     "import os\n",
                                     "\n",
                                     "project_folder = \u0027./chainer-mnist\u0027\n",
                                     "os.makedirs(project_folder, exist_ok=True)"
                                 ]
                  },
                  {
                      "cell_type":  "markdown",
                      "metadata":  {

                                   },
                      "source":  [
                                     "### Prepare training script\n",
                                     "Now you will need to create your training script. In this tutorial, the training script is already provided for you at `chainer_mnist.py`. In practice, you should be able to take any custom training script as is and run it with Azure ML without having to modify your code.\n",
                                     "\n",
                                     "However, if you would like to use Azure ML\u0027s [tracking and metrics](https://docs.microsoft.com/azure/machine-learning/service/concept-azure-machine-learning-architecture#metrics) capabilities, you will have to add a small amount of Azure ML code inside your training script. \n",
                                     "\n",
                                     "In `chainer_mnist.py`, we will log some metrics to our Azure ML run. To do so, we will access the Azure ML `Run` object within the script:\n",
                                     "```Python\n",
                                     "from azureml.core.run import Run\n",
                                     "run = Run.get_context()\n",
                                     "```\n",
                                     "Further within `chainer_mnist.py`, we log the batchsize and epochs parameters, and the highest accuracy the model achieves:\n",
                                     "```Python\n",
                                     "run.log(\u0027Batch size\u0027, np.int(args.batchsize))\n",
                                     "run.log(\u0027Epochs\u0027, np.int(args.epochs))\n",
                                     "\n",
                                     "run.log(\u0027Accuracy\u0027, np.float(val_accuracy))\n",
                                     "```\n",
                                     "These run metrics will become particularly important when we begin hyperparameter tuning our model in the \"Tune model hyperparameters\" section."
                                 ]
                  },
                  {
                      "cell_type":  "markdown",
                      "metadata":  {

                                   },
                      "source":  [
                                     "Once your script is ready, copy the training script `chainer_mnist.py` into your project directory."
                                 ]
                  },
                  {
                      "cell_type":  "code",
                      "execution_count":  null,
                      "metadata":  {

                                   },
                      "outputs":  [

                                  ],
                      "source":  [
                                     "import shutil\n",
                                     "\n",
                                     "shutil.copy(\u0027chainer_mnist.py\u0027, project_folder)"
                                 ]
                  },
                  {
                      "cell_type":  "markdown",
                      "metadata":  {

                                   },
                      "source":  [
                                     "### Create an experiment\n",
                                     "Create an [Experiment](https://docs.microsoft.com/azure/machine-learning/service/concept-azure-machine-learning-architecture#experiment) to track all the runs in your workspace for this Chainer tutorial. "
                                 ]
                  },
                  {
                      "cell_type":  "code",
                      "execution_count":  null,
                      "metadata":  {

                                   },
                      "outputs":  [

                                  ],
                      "source":  [
                                     "from azureml.core import Experiment\n",
                                     "\n",
                                     "experiment_name = \u0027chainer-mnist\u0027\n",
                                     "experiment = Experiment(ws, name=experiment_name)"
                                 ]
                  },
                  {
                      "cell_type":  "markdown",
                      "metadata":  {

                                   },
                      "source":  [
                                     "### Create a Chainer estimator\n",
                                     "The Azure ML SDK\u0027s Chainer estimator enables you to easily submit Chainer training jobs for both single-node and distributed runs. The following code will define a single-node Chainer job."
                                 ]
                  },
                  {
                      "cell_type":  "code",
                      "execution_count":  null,
                      "metadata":  {

                                   },
                      "outputs":  [

                                  ],
                      "source":  [
                                     "from azureml.train.dnn import Chainer\n",
                                     "\n",
                                     "script_params = {\n",
                                     "    \u0027--epochs\u0027: 10,\n",
                                     "    \u0027--batchsize\u0027: 128,\n",
                                     "    \u0027--output_dir\u0027: \u0027./outputs\u0027\n",
                                     "}\n",
                                     "\n",
                                     "estimator = Chainer(source_directory=project_folder, \n",
                                     "                    script_params=script_params,\n",
                                     "                    compute_target=compute_target,\n",
                                     "                    pip_packages=[\u0027numpy\u0027, \u0027pytest\u0027],\n",
                                     "                    entry_script=\u0027chainer_mnist.py\u0027,\n",
                                     "                    use_gpu=True)"
                                 ]
                  },
                  {
                      "cell_type":  "markdown",
                      "metadata":  {

                                   },
                      "source":  [
                                     "The `script_params` parameter is a dictionary containing the command-line arguments to your training script `entry_script`. To leverage the Azure VM\u0027s GPU for training, we set `use_gpu=True`."
                                 ]
                  },
                  {
                      "cell_type":  "markdown",
                      "metadata":  {

                                   },
                      "source":  [
                                     "### Submit job\n",
                                     "Run your experiment by submitting your estimator object. Note that this call is asynchronous."
                                 ]
                  },
                  {
                      "cell_type":  "code",
                      "execution_count":  null,
                      "metadata":  {

                                   },
                      "outputs":  [

                                  ],
                      "source":  [
                                     "run = experiment.submit(estimator)"
                                 ]
                  },
                  {
                      "cell_type":  "markdown",
                      "metadata":  {

                                   },
                      "source":  [
                                     "### Monitor your run\n",
                                     "You can monitor the progress of the run with a Jupyter widget. Like the run submission, the widget is asynchronous and provides live updates every 10-15 seconds until the job completes."
                                 ]
                  },
                  {
                      "cell_type":  "code",
                      "execution_count":  null,
                      "metadata":  {

                                   },
                      "outputs":  [

                                  ],
                      "source":  [
                                     "from azureml.widgets import RunDetails\n",
                                     "\n",
                                     "RunDetails(run).show()"
                                 ]
                  },
                  {
                      "cell_type":  "code",
                      "execution_count":  null,
                      "metadata":  {

                                   },
                      "outputs":  [

                                  ],
                      "source":  [
                                     "# to get more details of your run\n",
                                     "print(run.get_details())"
                                 ]
                  },
                  {
                      "cell_type":  "markdown",
                      "metadata":  {

                                   },
                      "source":  [
                                     "## Tune model hyperparameters\n",
                                     "Now that we\u0027ve seen how to do a simple Chainer training run using the SDK, let\u0027s see if we can further improve the accuracy of our model. We can optimize our model\u0027s hyperparameters using Azure Machine Learning\u0027s hyperparameter tuning capabilities."
                                 ]
                  },
                  {
                      "cell_type":  "markdown",
                      "metadata":  {

                                   },
                      "source":  [
                                     "### Start a hyperparameter sweep\n",
                                     "First, we will define the hyperparameter space to sweep over. Let\u0027s tune the batch size and epochs parameters. In this example we will use random sampling to try different configuration sets of hyperparameters to maximize our primary metric, accuracy.\n",
                                     "\n",
                                     "Then, we specify the early termination policy to use to early terminate poorly performing runs. Here we use the `BanditPolicy`, which will terminate any run that doesn\u0027t fall within the slack factor of our primary evaluation metric. In this tutorial, we will apply this policy every epoch (since we report our `Accuracy` metric every epoch and `evaluation_interval=1`). Notice we will delay the first policy evaluation until after the first `3` epochs (`delay_evaluation=3`).\n",
                                     "Refer [here](https://docs.microsoft.com/azure/machine-learning/service/how-to-tune-hyperparameters#specify-an-early-termination-policy) for more information on the BanditPolicy and other policies available."
                                 ]
                  },
                  {
                      "cell_type":  "code",
                      "execution_count":  null,
                      "metadata":  {

                                   },
                      "outputs":  [

                                  ],
                      "source":  [
                                     "from azureml.train.hyperdrive.runconfig import HyperDriveRunConfig\n",
                                     "from azureml.train.hyperdrive.sampling import RandomParameterSampling\n",
                                     "from azureml.train.hyperdrive.policy import BanditPolicy\n",
                                     "from azureml.train.hyperdrive.run import PrimaryMetricGoal\n",
                                     "from azureml.train.hyperdrive.parameter_expressions import choice\n",
                                     "    \n",
                                     "\n",
                                     "param_sampling = RandomParameterSampling( {\n",
                                     "    \"--batchsize\": choice(128, 256),\n",
                                     "    \"--epochs\": choice(5, 10, 20, 40)\n",
                                     "    }\n",
                                     ")\n",
                                     "\n",
                                     "hyperdrive_run_config = HyperDriveRunConfig(estimator=estimator,\n",
                                     "                                            hyperparameter_sampling=param_sampling, \n",
                                     "                                            primary_metric_name=\u0027Accuracy\u0027,\n",
                                     "                                            primary_metric_goal=PrimaryMetricGoal.MAXIMIZE,\n",
                                     "                                            max_total_runs=8,\n",
                                     "                                            max_concurrent_runs=4)\n"
                                 ]
                  },
                  {
                      "cell_type":  "markdown",
                      "metadata":  {

                                   },
                      "source":  [
                                     "Finally, lauch the hyperparameter tuning job."
                                 ]
                  },
                  {
                      "cell_type":  "code",
                      "execution_count":  null,
                      "metadata":  {

                                   },
                      "outputs":  [

                                  ],
                      "source":  [
                                     "# start the HyperDrive run\n",
                                     "hyperdrive_run = experiment.submit(hyperdrive_run_config)"
                                 ]
                  },
                  {
                      "cell_type":  "markdown",
                      "metadata":  {

                                   },
                      "source":  [
                                     "### Monitor HyperDrive runs\n",
                                     "You can monitor the progress of the runs with the following Jupyter widget. "
                                 ]
                  },
                  {
                      "cell_type":  "code",
                      "execution_count":  null,
                      "metadata":  {

                                   },
                      "outputs":  [

                                  ],
                      "source":  [
                                     "RunDetails(hyperdrive_run).show()"
                                 ]
                  },
                  {
                      "cell_type":  "code",
                      "execution_count":  null,
                      "metadata":  {

                                   },
                      "outputs":  [

                                  ],
                      "source":  [
                                     "run.wait_for_completion(show_output=True)"
                                 ]
                  }
              ],
    "metadata":  {
                     "authors":  [
                                     {
                                         "name":  "minxia"
                                     }
                                 ],
                     "kernelspec":  {
                                        "display_name":  "Python 3.6 - AzureML",
                                        "language":  "python",
                                        "name":  "python3-azureml"
                                    },
                     "language_info":  {
                                           "codemirror_mode":  {
                                                                   "name":  "ipython",
                                                                   "version":  3
                                                               },
                                           "file_extension":  ".py",
                                           "mimetype":  "text/x-python",
                                           "name":  "python",
                                           "nbconvert_exporter":  "python",
                                           "pygments_lexer":  "ipython3",
                                           "version":  "3.6.6"
                                       },
                     "msauthor":  "minxia"
                 },
    "nbformat":  4,
    "nbformat_minor":  2
}
